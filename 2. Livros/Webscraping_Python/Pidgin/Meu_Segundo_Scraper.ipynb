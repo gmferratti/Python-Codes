{
 "cells": [
  {
   "cell_type": "markdown",
   "metadata": {},
   "source": [
    "<h1>Meu Segundo Scraper"
   ]
  },
  {
   "cell_type": "code",
   "execution_count": 2,
   "metadata": {},
   "outputs": [],
   "source": [
    "from urllib.request import urlopen\n",
    "from bs4 import BeautifulSoup\n",
    "import re"
   ]
  },
  {
   "cell_type": "code",
   "execution_count": 10,
   "metadata": {},
   "outputs": [
    {
     "name": "stdout",
     "output_type": "stream",
     "text": [
      "Anna\n",
      "Pavlovna Scherer\n",
      "Empress Marya\n",
      "Fedorovna\n",
      "Prince Vasili Kuragin\n",
      "Anna Pavlovna\n",
      "St. Petersburg\n",
      "the prince\n",
      "Anna Pavlovna\n",
      "Anna Pavlovna\n",
      "the prince\n",
      "the prince\n",
      "the prince\n",
      "Prince Vasili\n",
      "Anna Pavlovna\n",
      "Anna Pavlovna\n",
      "the prince\n",
      "Wintzingerode\n",
      "King of Prussia\n",
      "le Vicomte de Mortemart\n",
      "Montmorencys\n",
      "Rohans\n",
      "Abbe Morio\n",
      "the Emperor\n",
      "the prince\n",
      "Prince Vasili\n",
      "Dowager Empress Marya Fedorovna\n",
      "the baron\n",
      "Anna Pavlovna\n",
      "the Empress\n",
      "the Empress\n",
      "Anna Pavlovna's\n",
      "Her Majesty\n",
      "Baron\n",
      "Funke\n",
      "The prince\n",
      "Anna\n",
      "Pavlovna\n",
      "the Empress\n",
      "The prince\n",
      "Anatole\n",
      "the prince\n",
      "The prince\n",
      "Anna\n",
      "Pavlovna\n",
      "Anna Pavlovna\n"
     ]
    }
   ],
   "source": [
    "#Lendo o texto do livro Guerra e Paz que está na página\n",
    "html = urlopen('http://www.pythonscraping.com/pages/warandpeace.html')\n",
    "\n",
    "#Neste site, o nome dos personagens estão em verde e suas falas estão em vermelho. \n",
    "#Podemos acessar os atributos de estilização do CSS para filtrar os elementos do texto (cor, negrito, etc.).\n",
    "#Vamos fazer isso para o nome dos personagens que aparecem ao longo do texto\n",
    "bs = BeautifulSoup(html.read(),'html.parser')\n",
    "nameList = bs.findAll('span', {'class':'green'})\n",
    "for name in nameList:\n",
    "    print(name.get_text())#a função get_text() remove as tags do HTML"
   ]
  },
  {
   "cell_type": "code",
   "execution_count": 13,
   "metadata": {},
   "outputs": [
    {
     "name": "stdout",
     "output_type": "stream",
     "text": [
      "/wiki/Sundar_Pichai\n",
      "/wiki/Sundar_Pichai\n",
      "/wiki/12_de_julho#Nascimentos\n",
      "/wiki/1972\n",
      "/wiki/Chenai\n",
      "/wiki/%C3%8Dndia\n",
      "/wiki/%C3%8Dndia\n",
      "/wiki/CEO\n",
      "/wiki/Google\n",
      "/wiki/Alphabet_Inc.\n",
      "/wiki/Google\n",
      "/wiki/Chenai\n",
      "/wiki/Google\n",
      "/wiki/Alphabet_Inc.\n",
      "/wiki/10_de_agosto\n",
      "/wiki/2015\n",
      "/wiki/Larry_Page\n",
      "/wiki/Alphabet_Inc.\n",
      "/wiki/Dezembro\n",
      "/wiki/2019\n",
      "/wiki/Holding\n",
      "/wiki/Engenharia_metal%C3%BArgica\n",
      "/wiki/Google_Chrome\n",
      "/wiki/Chrome_OS\n",
      "/wiki/Sistema_Operacional\n",
      "/wiki/Android\n",
      "/wiki/Alphabet_Inc.\n",
      "/wiki/Larry_Page\n",
      "/wiki/Sergey_Brin\n"
     ]
    }
   ],
   "source": [
    "html = urlopen('https://pt.wikipedia.org/wiki/Sundar_Pichai')\n",
    "bs = BeautifulSoup(html,'html.parser')\n",
    "\n",
    "#padrão da expressão regular: começa com /wiki/ e pode conter quaisquer caracteres depois do / com exceção dos dois pontos\n",
    "re02 = re.compile('^(/wiki/)((?!:).)*$')\n",
    "\n",
    "for link in bs.find_all('a',href = re02): #procura tudo o que está na tag raiz da página, a tag 'a'\n",
    "    if 'href' in link.attrs: #dentro dela, encontra todos links externos por meio do atributo href\n",
    "        print(link.attrs['href']) #e printa todos os casos"
   ]
  }
 ],
 "metadata": {
  "kernelspec": {
   "display_name": "Python 3",
   "language": "python",
   "name": "python3"
  },
  "language_info": {
   "codemirror_mode": {
    "name": "ipython",
    "version": 3
   },
   "file_extension": ".py",
   "mimetype": "text/x-python",
   "name": "python",
   "nbconvert_exporter": "python",
   "pygments_lexer": "ipython3",
   "version": "3.8.5"
  }
 },
 "nbformat": 4,
 "nbformat_minor": 4
}

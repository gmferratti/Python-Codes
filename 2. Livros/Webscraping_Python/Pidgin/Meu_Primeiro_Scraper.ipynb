{
 "cells": [
  {
   "cell_type": "markdown",
   "metadata": {},
   "source": [
    "<h1>Meu Primeiro Scraper"
   ]
  },
  {
   "cell_type": "code",
   "execution_count": 15,
   "metadata": {},
   "outputs": [],
   "source": [
    "from urllib.request import urlopen\n",
    "from bs4 import BeautifulSoup\n",
    "import re"
   ]
  },
  {
   "cell_type": "code",
   "execution_count": 38,
   "metadata": {},
   "outputs": [
    {
     "data": {
      "text/plain": [
       "<http.client.HTTPResponse at 0x23c3665ddf0>"
      ]
     },
     "execution_count": 38,
     "metadata": {},
     "output_type": "execute_result"
    }
   ],
   "source": [
    "url = 'https://pt.wikipedia.org/wiki/Sandu%C3%ADche'\n",
    "page = urlopen(url)\n",
    "page"
   ]
  },
  {
   "cell_type": "code",
   "execution_count": 39,
   "metadata": {},
   "outputs": [
    {
     "name": "stdout",
     "output_type": "stream",
     "text": [
      "<!DOCTYPE html>\n",
      "<html class=\"client-nojs\" lang=\"pt\" dir=\"ltr\">\n",
      "<head>\n",
      "<meta charset=\"UTF-8\"/>\n",
      "<title>Sanduíche – Wikipédia, a enciclopédia livre</titl\n"
     ]
    }
   ],
   "source": [
    "html_bytes = page.read()\n",
    "html = html_bytes.decode(\"utf-8\")\n",
    "\n",
    "#imprime os 150 primeiros caracteres\n",
    "print(html[:150])"
   ]
  },
  {
   "cell_type": "code",
   "execution_count": 4,
   "metadata": {},
   "outputs": [
    {
     "data": {
      "text/plain": [
       "'Sanduíche – Wikipédia, a enciclopédia livre'"
      ]
     },
     "execution_count": 4,
     "metadata": {},
     "output_type": "execute_result"
    }
   ],
   "source": [
    "#extraindo o título 'na unha'\n",
    "start_index = html.find(\"<title>\") + len(\"<title>\")\n",
    "end_index = html.find(\"</title>\")\n",
    "title = html[start_index:end_index]\n",
    "title"
   ]
  },
  {
   "cell_type": "code",
   "execution_count": 43,
   "metadata": {},
   "outputs": [
    {
     "name": "stdout",
     "output_type": "stream",
     "text": [
      "Sanduíche – Wikipédia, a enciclopédia livre\n"
     ]
    }
   ],
   "source": [
    "#extraindo o título usando BeautifulSoup\n",
    "bs = BeautifulSoup(html_bytes,'html.parser')\n",
    "print(bs.title.text)"
   ]
  },
  {
   "cell_type": "code",
   "execution_count": 55,
   "metadata": {},
   "outputs": [
    {
     "name": "stdout",
     "output_type": "stream",
     "text": [
      "Menu de navegação\n",
      "O sanduíche (do inglês sandwich), também popularmente chamado de sanduba (português brasileiro) ou sandes (português europeu), é um tipo de alimento que consiste em duas fatias de um pão inteiro, entre as quais é colocada carne, queijo ou outro tipo de alimento.Os sanduíches são, habitualmente, consumidos ao lanche ou como uma refeição rápida, durante o almoço ou o jantar.\n",
      "\n"
     ]
    }
   ],
   "source": [
    "#poderíamos extrair outras coisas também...\n",
    "print(bs.h2.text)\n",
    "print(bs.p.text)"
   ]
  },
  {
   "cell_type": "code",
   "execution_count": 62,
   "metadata": {},
   "outputs": [
    {
     "name": "stdout",
     "output_type": "stream",
     "text": [
      "Página não encontrada!\n"
     ]
    }
   ],
   "source": [
    "#lidando com erros de acesso\n",
    "from urllib.error import HTTPError, URLError\n",
    "\n",
    "try:\n",
    "    #alterar o URL abaixo e testar os casos de erro\n",
    "    html = urlopen('http://pythonscraping.com/pages/page.html')\n",
    "except HTTPError as e:\n",
    "    print('Página não encontrada!')\n",
    "except URLError as e:\n",
    "    print('Servidor não encontrado!')\n",
    "else:\n",
    "    print('Funcionou!')"
   ]
  },
  {
   "cell_type": "code",
   "execution_count": 73,
   "metadata": {},
   "outputs": [
    {
     "name": "stdout",
     "output_type": "stream",
     "text": [
      "Expressão Inválida\n"
     ]
    }
   ],
   "source": [
    "#brincando com expressões regulares\n",
    "\n",
    "#Expressão para verificar e-mail\n",
    "regex_01 = '^(\\w|\\.|\\_|\\-)+[@](\\w|\\_|\\-|\\.)+[.]\\w{2,3}$'\n",
    "#Verificar para ficar mais didático\n",
    "\n",
    "#Expressão para rejeitar caracteres especiais\n",
    "regex_02 = '^(0-9|A-Z|a-z)*$'\n",
    "\n",
    "\n",
    "def check(string,regex):\n",
    "    if(re.search(regex, string)):\n",
    "        print(\"Expressão Válida\")\n",
    "    else:\n",
    "        print(\"Expressão Inválida\")\n",
    "\n",
    "check('',regex_02)"
   ]
  }
 ],
 "metadata": {
  "kernelspec": {
   "display_name": "Python 3",
   "language": "python",
   "name": "python3"
  },
  "language_info": {
   "codemirror_mode": {
    "name": "ipython",
    "version": 3
   },
   "file_extension": ".py",
   "mimetype": "text/x-python",
   "name": "python",
   "nbconvert_exporter": "python",
   "pygments_lexer": "ipython3",
   "version": "3.8.5"
  }
 },
 "nbformat": 4,
 "nbformat_minor": 4
}

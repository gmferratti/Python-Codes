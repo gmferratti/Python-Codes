{
 "cells": [
  {
   "cell_type": "code",
   "execution_count": null,
   "metadata": {},
   "outputs": [],
   "source": [
    "print('hello_world')\n",
    "int(2.5)"
   ]
  }
 ],
 "metadata": {
  "kernelspec": {
   "display_name": "Python 3.10.8 64-bit",
   "language": "python",
   "name": "python3"
  },
  "language_info": {
   "name": "python",
   "version": "3.10.8"
  },
  "orig_nbformat": 4,
  "vscode": {
   "interpreter": {
    "hash": "ef6d3bba60e38cbd122236857aa893cdd615f18cc3abc3e77060ada9206725e8"
   }
  }
 },
 "nbformat": 4,
 "nbformat_minor": 2
}

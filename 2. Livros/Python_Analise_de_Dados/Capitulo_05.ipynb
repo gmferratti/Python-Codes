{
 "cells": [
  {
   "cell_type": "markdown",
   "metadata": {},
   "source": [
    "<h1>Introdução aos Pandas - Ch 05\n",
    "    "
   ]
  },
  {
   "cell_type": "code",
   "execution_count": 1,
   "metadata": {},
   "outputs": [],
   "source": [
    "import pandas as pd\n",
    "#importando Serie e Dataframe para o namespace local\n",
    "from pandas import Series, DataFrame\n",
    "import numpy as np"
   ]
  },
  {
   "cell_type": "markdown",
   "metadata": {},
   "source": [
    "<h2>Series"
   ]
  },
  {
   "cell_type": "markdown",
   "metadata": {},
   "source": [
    "Uma **Series** é um objeto do tipo array unidimensional contendo uma sequência de valores e um array associado de rótulos (labels) chaamado de índice."
   ]
  },
  {
   "cell_type": "code",
   "execution_count": 2,
   "metadata": {},
   "outputs": [
    {
     "name": "stdout",
     "output_type": "stream",
     "text": [
      "Série:\n",
      " 0    4\n",
      "1    7\n",
      "2    2\n",
      "dtype: int64\n",
      "Valores: [4 7 2]\n",
      "Índice: RangeIndex(start=0, stop=3, step=1)\n"
     ]
    }
   ],
   "source": [
    "obj = pd.Series([4,7,5-3])\n",
    "print(\"Série:\\n\", obj)\n",
    "print(\"Valores:\",obj.values)\n",
    "print(\"Índice:\",obj.index)"
   ]
  },
  {
   "cell_type": "markdown",
   "metadata": {},
   "source": [
    "Podemos criar um índice diferente do índice numérico padrão, já na declaração de uma série:"
   ]
  },
  {
   "cell_type": "code",
   "execution_count": 3,
   "metadata": {},
   "outputs": [
    {
     "name": "stdout",
     "output_type": "stream",
     "text": [
      "a    4\n",
      "b    7\n",
      "c    5\n",
      "d   -3\n",
      "dtype: int64\n"
     ]
    },
    {
     "data": {
      "text/plain": [
       "Index(['a', 'b', 'c', 'd'], dtype='object')"
      ]
     },
     "execution_count": 3,
     "metadata": {},
     "output_type": "execute_result"
    }
   ],
   "source": [
    "obj2 = pd.Series([4,7,5,-3], index = ['a','b','c','d'])\n",
    "print(obj2)\n",
    "obj2.index"
   ]
  },
  {
   "cell_type": "markdown",
   "metadata": {},
   "source": [
    "Assim, como em um array, podemos selecionar valores específicos de uma série a partir do seu índice, além de usar a biblioteca Numpy preservando a relação entre valor e índice."
   ]
  },
  {
   "cell_type": "code",
   "execution_count": 4,
   "metadata": {},
   "outputs": [
    {
     "name": "stdout",
     "output_type": "stream",
     "text": [
      "5\n",
      "a    4\n",
      "b    7\n",
      "d   -3\n",
      "dtype: int64\n",
      "a    4\n",
      "b    7\n",
      "c    5\n",
      "dtype: int64\n",
      "a      54.598150\n",
      "b    1096.633158\n",
      "c     148.413159\n",
      "d       0.049787\n",
      "dtype: float64\n"
     ]
    }
   ],
   "source": [
    "print(obj2['c'])\n",
    "print(obj2[['a','b','d']])\n",
    "print(obj2[obj2>0])\n",
    "print(np.exp(obj2))"
   ]
  },
  {
   "cell_type": "markdown",
   "metadata": {},
   "source": [
    "Podemos criar um objeto do tipo Series **a partir de um dic**, usando a expressão Series:"
   ]
  },
  {
   "cell_type": "code",
   "execution_count": 5,
   "metadata": {},
   "outputs": [
    {
     "data": {
      "text/plain": [
       "Rio de Janeiro    10000\n",
       "São Paulo          5000\n",
       "Bahia             20000\n",
       "Alagoas            2000\n",
       "dtype: int64"
      ]
     },
     "execution_count": 5,
     "metadata": {},
     "output_type": "execute_result"
    }
   ],
   "source": [
    "sdata = {\"Rio de Janeiro\": 10000,'São Paulo': 5000, \"Bahia\": 20000, \"Alagoas\": 2000}\n",
    "obj3 = Series(sdata)\n",
    "obj3"
   ]
  },
  {
   "cell_type": "markdown",
   "metadata": {},
   "source": [
    "Podemos também passar uma lista de índices para gerar uma nova série a partir do nosso dicionário. Essa lista será preenchida com NaN sempre que não encontrar valores:"
   ]
  },
  {
   "cell_type": "code",
   "execution_count": 6,
   "metadata": {},
   "outputs": [
    {
     "name": "stdout",
     "output_type": "stream",
     "text": [
      "Rio de Janeiro    10000.0\n",
      "São Paulo          5000.0\n",
      "Maranhão              NaN\n",
      "Bahia             20000.0\n",
      "dtype: float64\n",
      "Rio de Janeiro    False\n",
      "São Paulo         False\n",
      "Maranhão           True\n",
      "Bahia             False\n",
      "dtype: bool\n",
      "Rio de Janeiro     True\n",
      "São Paulo          True\n",
      "Maranhão          False\n",
      "Bahia              True\n",
      "dtype: bool\n"
     ]
    },
    {
     "data": {
      "text/plain": [
       "Alagoas               NaN\n",
       "Bahia             40000.0\n",
       "Maranhão              NaN\n",
       "Rio de Janeiro    20000.0\n",
       "São Paulo         10000.0\n",
       "dtype: float64"
      ]
     },
     "execution_count": 6,
     "metadata": {},
     "output_type": "execute_result"
    }
   ],
   "source": [
    "indice = [\"Rio de Janeiro\", \"São Paulo\", \"Maranhão\", \"Bahia\"]\n",
    "obj4 = Series(sdata, index=indice)\n",
    "print(obj4)\n",
    "\n",
    "#Podemos verificar se um valor é vazio ou não\n",
    "print(pd.isnull(obj4))\n",
    "print(obj4.notnull())\n",
    "\n",
    "#somando séries\n",
    "obj3 + obj4\n",
    "#obs. veja que o alinhamento é feito automaticamente"
   ]
  },
  {
   "cell_type": "code",
   "execution_count": 7,
   "metadata": {},
   "outputs": [
    {
     "name": "stdout",
     "output_type": "stream",
     "text": [
      "Estado\n",
      "Rio de Janeiro    10000.0\n",
      "São Paulo          5000.0\n",
      "Maranhão              NaN\n",
      "Bahia             20000.0\n",
      "Name: População, dtype: float64\n"
     ]
    }
   ],
   "source": [
    "#podemos \"dar nome aos bois\" usando atributos da série\n",
    "\n",
    "obj4.name = \"População\"\n",
    "obj4.index.name = \"Estado\"\n",
    "print(obj4)"
   ]
  },
  {
   "cell_type": "markdown",
   "metadata": {},
   "source": [
    "<h2>DataFrame"
   ]
  },
  {
   "cell_type": "markdown",
   "metadata": {},
   "source": [
    "Um **dataframe** representa uma tabela de dados retangular e contém uma coleção de colunas, em que cada coluna pode ter um tipo de valor diferente"
   ]
  },
  {
   "cell_type": "code",
   "execution_count": 8,
   "metadata": {},
   "outputs": [
    {
     "data": {
      "text/html": [
       "<div>\n",
       "<style scoped>\n",
       "    .dataframe tbody tr th:only-of-type {\n",
       "        vertical-align: middle;\n",
       "    }\n",
       "\n",
       "    .dataframe tbody tr th {\n",
       "        vertical-align: top;\n",
       "    }\n",
       "\n",
       "    .dataframe thead th {\n",
       "        text-align: right;\n",
       "    }\n",
       "</style>\n",
       "<table border=\"1\" class=\"dataframe\">\n",
       "  <thead>\n",
       "    <tr style=\"text-align: right;\">\n",
       "      <th></th>\n",
       "      <th>state</th>\n",
       "      <th>year</th>\n",
       "      <th>population</th>\n",
       "    </tr>\n",
       "  </thead>\n",
       "  <tbody>\n",
       "    <tr>\n",
       "      <th>0</th>\n",
       "      <td>SP</td>\n",
       "      <td>2000</td>\n",
       "      <td>1.5</td>\n",
       "    </tr>\n",
       "    <tr>\n",
       "      <th>1</th>\n",
       "      <td>SP</td>\n",
       "      <td>2001</td>\n",
       "      <td>1.7</td>\n",
       "    </tr>\n",
       "    <tr>\n",
       "      <th>2</th>\n",
       "      <td>SP</td>\n",
       "      <td>2002</td>\n",
       "      <td>3.6</td>\n",
       "    </tr>\n",
       "    <tr>\n",
       "      <th>3</th>\n",
       "      <td>RJ</td>\n",
       "      <td>2000</td>\n",
       "      <td>2.4</td>\n",
       "    </tr>\n",
       "    <tr>\n",
       "      <th>4</th>\n",
       "      <td>RJ</td>\n",
       "      <td>2001</td>\n",
       "      <td>2.9</td>\n",
       "    </tr>\n",
       "  </tbody>\n",
       "</table>\n",
       "</div>"
      ],
      "text/plain": [
       "  state  year  population\n",
       "0    SP  2000         1.5\n",
       "1    SP  2001         1.7\n",
       "2    SP  2002         3.6\n",
       "3    RJ  2000         2.4\n",
       "4    RJ  2001         2.9"
      ]
     },
     "execution_count": 8,
     "metadata": {},
     "output_type": "execute_result"
    }
   ],
   "source": [
    "#O dataframe pode ser imaginado como um dicionário com listas compartilhando o mesmo índice\n",
    "data = {'state':[\"SP\",\"SP\",\"SP\",\"RJ\",\"RJ\",\"RJ\"],\n",
    "       'year':[2000,2001,2002,2000,2001,2002],\n",
    "       'population':[1.5,1.7,3.6,2.4,2.9,3.2]}\n",
    "\n",
    "frame = pd.DataFrame(data)\n",
    "frame.head()"
   ]
  },
  {
   "cell_type": "code",
   "execution_count": 18,
   "metadata": {},
   "outputs": [
    {
     "data": {
      "text/html": [
       "<div>\n",
       "<style scoped>\n",
       "    .dataframe tbody tr th:only-of-type {\n",
       "        vertical-align: middle;\n",
       "    }\n",
       "\n",
       "    .dataframe tbody tr th {\n",
       "        vertical-align: top;\n",
       "    }\n",
       "\n",
       "    .dataframe thead th {\n",
       "        text-align: right;\n",
       "    }\n",
       "</style>\n",
       "<table border=\"1\" class=\"dataframe\">\n",
       "  <thead>\n",
       "    <tr style=\"text-align: right;\">\n",
       "      <th>estado</th>\n",
       "      <th>São Paulo</th>\n",
       "      <th>Ohio</th>\n",
       "    </tr>\n",
       "    <tr>\n",
       "      <th>ano</th>\n",
       "      <th></th>\n",
       "      <th></th>\n",
       "    </tr>\n",
       "  </thead>\n",
       "  <tbody>\n",
       "    <tr>\n",
       "      <th>2001</th>\n",
       "      <td>2.4</td>\n",
       "      <td>1.7</td>\n",
       "    </tr>\n",
       "    <tr>\n",
       "      <th>2002</th>\n",
       "      <td>2.9</td>\n",
       "      <td>3.6</td>\n",
       "    </tr>\n",
       "    <tr>\n",
       "      <th>2000</th>\n",
       "      <td>NaN</td>\n",
       "      <td>1.5</td>\n",
       "    </tr>\n",
       "  </tbody>\n",
       "</table>\n",
       "</div>"
      ],
      "text/plain": [
       "estado  São Paulo  Ohio\n",
       "ano                    \n",
       "2001          2.4   1.7\n",
       "2002          2.9   3.6\n",
       "2000          NaN   1.5"
      ]
     },
     "execution_count": 18,
     "metadata": {},
     "output_type": "execute_result"
    }
   ],
   "source": [
    "#Ou um dicionário de dicionários em que os valores faltantes são preenchidos com NaN\n",
    "data = {'São Paulo':{2001:2.4, 2002:2.9},'Ohio':{2000:1.5,2001:1.7,2002:3.6}}\n",
    "frame = pd.DataFrame(data)\n",
    "frame.index.name = 'ano'\n",
    "frame.columns.name = 'estado'\n",
    "frame.head()"
   ]
  },
  {
   "cell_type": "code",
   "execution_count": 9,
   "metadata": {},
   "outputs": [
    {
     "data": {
      "text/html": [
       "<div>\n",
       "<style scoped>\n",
       "    .dataframe tbody tr th:only-of-type {\n",
       "        vertical-align: middle;\n",
       "    }\n",
       "\n",
       "    .dataframe tbody tr th {\n",
       "        vertical-align: top;\n",
       "    }\n",
       "\n",
       "    .dataframe thead th {\n",
       "        text-align: right;\n",
       "    }\n",
       "</style>\n",
       "<table border=\"1\" class=\"dataframe\">\n",
       "  <thead>\n",
       "    <tr style=\"text-align: right;\">\n",
       "      <th></th>\n",
       "      <th>year</th>\n",
       "      <th>population</th>\n",
       "      <th>state</th>\n",
       "    </tr>\n",
       "  </thead>\n",
       "  <tbody>\n",
       "    <tr>\n",
       "      <th>0</th>\n",
       "      <td>2000</td>\n",
       "      <td>1.5</td>\n",
       "      <td>SP</td>\n",
       "    </tr>\n",
       "    <tr>\n",
       "      <th>1</th>\n",
       "      <td>2001</td>\n",
       "      <td>1.7</td>\n",
       "      <td>SP</td>\n",
       "    </tr>\n",
       "    <tr>\n",
       "      <th>2</th>\n",
       "      <td>2002</td>\n",
       "      <td>3.6</td>\n",
       "      <td>SP</td>\n",
       "    </tr>\n",
       "    <tr>\n",
       "      <th>3</th>\n",
       "      <td>2000</td>\n",
       "      <td>2.4</td>\n",
       "      <td>RJ</td>\n",
       "    </tr>\n",
       "    <tr>\n",
       "      <th>4</th>\n",
       "      <td>2001</td>\n",
       "      <td>2.9</td>\n",
       "      <td>RJ</td>\n",
       "    </tr>\n",
       "  </tbody>\n",
       "</table>\n",
       "</div>"
      ],
      "text/plain": [
       "   year  population state\n",
       "0  2000         1.5    SP\n",
       "1  2001         1.7    SP\n",
       "2  2002         3.6    SP\n",
       "3  2000         2.4    RJ\n",
       "4  2001         2.9    RJ"
      ]
     },
     "execution_count": 9,
     "metadata": {},
     "output_type": "execute_result"
    }
   ],
   "source": [
    "#Para reorganizar as colunas, é só especificar um argumento da função DataFrame()\n",
    "\n",
    "frame2 = pd.DataFrame(data,columns=['year','population','state'])\n",
    "frame2.head()"
   ]
  },
  {
   "cell_type": "code",
   "execution_count": 10,
   "metadata": {},
   "outputs": [
    {
     "data": {
      "text/html": [
       "<div>\n",
       "<style scoped>\n",
       "    .dataframe tbody tr th:only-of-type {\n",
       "        vertical-align: middle;\n",
       "    }\n",
       "\n",
       "    .dataframe tbody tr th {\n",
       "        vertical-align: top;\n",
       "    }\n",
       "\n",
       "    .dataframe thead th {\n",
       "        text-align: right;\n",
       "    }\n",
       "</style>\n",
       "<table border=\"1\" class=\"dataframe\">\n",
       "  <thead>\n",
       "    <tr style=\"text-align: right;\">\n",
       "      <th></th>\n",
       "      <th>year</th>\n",
       "      <th>population</th>\n",
       "      <th>gender</th>\n",
       "    </tr>\n",
       "  </thead>\n",
       "  <tbody>\n",
       "    <tr>\n",
       "      <th>entry_1</th>\n",
       "      <td>2000</td>\n",
       "      <td>1.5</td>\n",
       "      <td>NaN</td>\n",
       "    </tr>\n",
       "    <tr>\n",
       "      <th>entry_2</th>\n",
       "      <td>2001</td>\n",
       "      <td>1.7</td>\n",
       "      <td>NaN</td>\n",
       "    </tr>\n",
       "    <tr>\n",
       "      <th>entry_3</th>\n",
       "      <td>2002</td>\n",
       "      <td>3.6</td>\n",
       "      <td>NaN</td>\n",
       "    </tr>\n",
       "    <tr>\n",
       "      <th>entry_4</th>\n",
       "      <td>2000</td>\n",
       "      <td>2.4</td>\n",
       "      <td>NaN</td>\n",
       "    </tr>\n",
       "    <tr>\n",
       "      <th>entry_5</th>\n",
       "      <td>2001</td>\n",
       "      <td>2.9</td>\n",
       "      <td>NaN</td>\n",
       "    </tr>\n",
       "  </tbody>\n",
       "</table>\n",
       "</div>"
      ],
      "text/plain": [
       "         year  population gender\n",
       "entry_1  2000         1.5    NaN\n",
       "entry_2  2001         1.7    NaN\n",
       "entry_3  2002         3.6    NaN\n",
       "entry_4  2000         2.4    NaN\n",
       "entry_5  2001         2.9    NaN"
      ]
     },
     "execution_count": 10,
     "metadata": {},
     "output_type": "execute_result"
    }
   ],
   "source": [
    "#Se passarmos uma coluna que não existe, ela será criada.\n",
    "#Se passarmos um índice novo, as linhas serão renomeadas\n",
    "\n",
    "frame2 = pd.DataFrame(data, columns=['year','population','gender'], index = ['entry_1','entry_2','entry_3','entry_4','entry_5','entry_6'])\n",
    "frame2.head()"
   ]
  },
  {
   "cell_type": "code",
   "execution_count": 11,
   "metadata": {},
   "outputs": [
    {
     "name": "stdout",
     "output_type": "stream",
     "text": [
      "Index(['year', 'population', 'gender'], dtype='object')\n",
      "entry_1    2000\n",
      "entry_2    2001\n",
      "entry_3    2002\n",
      "entry_4    2000\n",
      "entry_5    2001\n",
      "entry_6    2002\n",
      "Name: year, dtype: int64\n",
      "é a mesma coisa que\n",
      "entry_1    2000\n",
      "entry_2    2001\n",
      "entry_3    2002\n",
      "entry_4    2000\n",
      "entry_5    2001\n",
      "entry_6    2002\n",
      "Name: year, dtype: int64\n",
      "year          2000\n",
      "population     2.4\n",
      "gender         NaN\n",
      "Name: entry_4, dtype: object\n"
     ]
    }
   ],
   "source": [
    "#listando as colunas do df\n",
    "print(frame2.columns)\n",
    "\n",
    "#Selencionando uma coluna específica\n",
    "print(frame2.year)\n",
    "print(\"é a mesma coisa que\")\n",
    "print(frame2['year'])\n",
    "\n",
    "#E uma linha específica\n",
    "print(frame2.loc['entry_4'])"
   ]
  },
  {
   "cell_type": "code",
   "execution_count": 12,
   "metadata": {},
   "outputs": [
    {
     "name": "stdout",
     "output_type": "stream",
     "text": [
      "         year  population gender\n",
      "entry_1  2000         1.5   Male\n",
      "entry_2  2001         1.7   Male\n",
      "entry_3  2002         3.6   Male\n",
      "entry_4  2000         2.4   Male\n",
      "entry_5  2001         2.9   Male\n",
      "entry_6  2002         3.2   Male\n",
      "         year  population  gender\n",
      "entry_1  2000         1.5    Male\n",
      "entry_2  2001         1.7    Male\n",
      "entry_3  2002         3.6  Female\n",
      "entry_4  2000         2.4    Male\n",
      "entry_5  2001         2.9  Female\n",
      "entry_6  2002         3.2    Male\n"
     ]
    }
   ],
   "source": [
    "#É possível fazer atribuição a uma coluna usando atribuição de escalar ou de arrays\n",
    "\n",
    "frame2['gender'] = \"Male\"\n",
    "print(frame2)\n",
    "\n",
    "random_array = np.random.randint(0,2,size=6)\n",
    "gender_array = np.where(random_array == 0, \"Male\", \"Female\")\n",
    "frame2['gender'] = gender_array\n",
    "print(frame2)"
   ]
  },
  {
   "cell_type": "code",
   "execution_count": 15,
   "metadata": {},
   "outputs": [
    {
     "name": "stdout",
     "output_type": "stream",
     "text": [
      "         year  population  gender gender2\n",
      "entry_1  2000         1.5    Male    Male\n",
      "entry_2  2001         1.7    Male  Female\n",
      "entry_3  2002         3.6  Female     NaN\n",
      "entry_4  2000         2.4    Male     NaN\n",
      "entry_5  2001         2.9  Female    Male\n"
     ]
    },
    {
     "data": {
      "text/plain": [
       "Index(['year', 'population', 'gender'], dtype='object')"
      ]
     },
     "execution_count": 15,
     "metadata": {},
     "output_type": "execute_result"
    }
   ],
   "source": [
    "#Se não tivermos certeza que o tamanho do array coincide com o número de linhas da tabela, devemos usar um objeto series\n",
    "#Quando fazemos isso, os valores válidos são preenchidos e os faltantes recebem NaN\n",
    "\n",
    "valores = pd.Series([\"Male\",\"Female\",\"Male\"], index = ['entry_1','entry_2','entry_5'])\n",
    "frame2['gender2'] = valores\n",
    "print(frame2.head())\n",
    "\n",
    "#Para deletar uma coluna, assim como em um dicionário usamos 'del'\n",
    "del frame2['gender2']\n",
    "frame2.columns"
   ]
  },
  {
   "cell_type": "markdown",
   "metadata": {},
   "source": [
    "<h2>Funcionalidades Essenciais"
   ]
  },
  {
   "cell_type": "markdown",
   "metadata": {},
   "source": [
    "<h3> Reindexação"
   ]
  },
  {
   "cell_type": "code",
   "execution_count": 23,
   "metadata": {},
   "outputs": [
    {
     "name": "stdout",
     "output_type": "stream",
     "text": [
      "d    4.0\n",
      "a    3.8\n",
      "b    2.7\n",
      "c    6.2\n",
      "dtype: float64\n",
      "a    3.8\n",
      "b    2.7\n",
      "c    6.2\n",
      "d    4.0\n",
      "e    NaN\n",
      "dtype: float64\n"
     ]
    }
   ],
   "source": [
    "obj = pd.Series([4.0, 3.8, 2.7, 6.2], index = ['d','a','b','c'])\n",
    "print(obj)\n",
    "\n",
    "#reindex ordena uma série, adicionando NaN quando não há valores disponíveis\n",
    "obj2 = obj.reindex(['a','b','c','d','e'])\n",
    "print(obj2)"
   ]
  },
  {
   "cell_type": "code",
   "execution_count": 25,
   "metadata": {},
   "outputs": [
    {
     "name": "stdout",
     "output_type": "stream",
     "text": [
      "0      blue\n",
      "2    purple\n",
      "4    yellow\n",
      "dtype: object\n"
     ]
    },
    {
     "data": {
      "text/plain": [
       "0      blue\n",
       "1      blue\n",
       "2    purple\n",
       "3    purple\n",
       "4    yellow\n",
       "5    yellow\n",
       "dtype: object"
      ]
     },
     "execution_count": 25,
     "metadata": {},
     "output_type": "execute_result"
    }
   ],
   "source": [
    "#podemos usar o forward fill (ffill) do reindex para preencher valores faltantes ou o backward fill (bfill)\n",
    "\n",
    "obj3 = pd.Series(['blue','purple','yellow'], index=[0,2,4])\n",
    "print(obj3)\n",
    "obj3.reindex(range(6),method='ffill')"
   ]
  },
  {
   "cell_type": "markdown",
   "metadata": {},
   "source": [
    "Em dataframes, o **reindex** pode alterar a linha (passando a lista diretamente), as colunas (usando a palavra reservada *columns*) ou ambos"
   ]
  },
  {
   "cell_type": "code",
   "execution_count": 30,
   "metadata": {},
   "outputs": [
    {
     "name": "stdout",
     "output_type": "stream",
     "text": [
      "   Ohio  Texas  California\n",
      "a     0      1           2\n",
      "c     3      4           5\n",
      "d     6      7           8\n",
      "   Ohio  Texas  California\n",
      "a   0.0    1.0         2.0\n",
      "b   NaN    NaN         NaN\n",
      "c   3.0    4.0         5.0\n",
      "d   6.0    7.0         8.0\n",
      "   São Paulo  California  Rio  Ohio\n",
      "a          0           2    0     0\n",
      "c          0           5    0     3\n",
      "d          0           8    0     6\n"
     ]
    }
   ],
   "source": [
    "#criando um frame\n",
    "frame = pd.DataFrame(np.arange(9).reshape((3,3)),\n",
    "                    index=['a','c','d'],\n",
    "                    columns=['Ohio','Texas','California'])\n",
    "print(frame)\n",
    "\n",
    "#reindexando as linhas\n",
    "frame2 = frame.reindex(['a','b','c','d'])\n",
    "print(frame2)\n",
    "\n",
    "#reindexando as colunas e filling in\n",
    "states = ['São Paulo', 'California', 'Rio','Ohio']\n",
    "frame2 = frame.reindex(columns=states, fill_value=0)\n",
    "print(frame2)"
   ]
  },
  {
   "cell_type": "markdown",
   "metadata": {},
   "source": [
    "<h3>Drop"
   ]
  },
  {
   "cell_type": "code",
   "execution_count": 38,
   "metadata": {},
   "outputs": [
    {
     "name": "stdout",
     "output_type": "stream",
     "text": [
      "a    0\n",
      "b    1\n",
      "c    2\n",
      "d    3\n",
      "e    4\n",
      "dtype: int32\n",
      "a    0\n",
      "b    1\n",
      "e    4\n",
      "dtype: int32\n",
      "                one  two  three  four\n",
      "São Paulo         0    1      2     3\n",
      "Rio de Janeiro    4    5      6     7\n",
      "Paraná            8    9     10    11\n",
      "Bahia            12   13     14    15\n",
      "                one  two  three  four\n",
      "São Paulo         0    1      2     3\n",
      "Rio de Janeiro    4    5      6     7\n",
      "Bahia            12   13     14    15\n",
      "                one  three  four\n",
      "São Paulo         0      2     3\n",
      "Rio de Janeiro    4      6     7\n",
      "Bahia            12     14    15\n"
     ]
    }
   ],
   "source": [
    "#criando uma série qualquer\n",
    "\n",
    "obj = pd.Series(np.arange(5), index=['a','b','c','d','e'])\n",
    "print(obj)\n",
    "\n",
    "#Dropando as linhas c e d\n",
    "obj = obj.drop(['c','d'])\n",
    "print(obj)\n",
    "\n",
    "#No caso de DFs, precisamos especificar os eixos '0' para linhas e '1 para colunas'\n",
    "data = pd.DataFrame(np.arange(16).reshape((4,4)),\n",
    "                   index = ['São Paulo', 'Rio de Janeiro', 'Paraná', 'Bahia'],\n",
    "                   columns = ['one', 'two','three','four'])\n",
    "print(data)\n",
    "\n",
    "data = data.drop(['Paraná'], axis=0)\n",
    "print(data)\n",
    "\n",
    "data = data.drop(['two'],axis=1)\n",
    "print(data)"
   ]
  },
  {
   "cell_type": "markdown",
   "metadata": {},
   "source": [
    "<h3> Indexação, seleção e filtragem"
   ]
  },
  {
   "cell_type": "code",
   "execution_count": 47,
   "metadata": {},
   "outputs": [
    {
     "name": "stdout",
     "output_type": "stream",
     "text": [
      "c    2\n",
      "d    3\n",
      "dtype: int32\n",
      "b    1\n",
      "c    2\n",
      "d    3\n",
      "dtype: int32\n",
      "b    1\n",
      "c    2\n",
      "dtype: int32\n",
      "d    3\n",
      "dtype: int32\n"
     ]
    }
   ],
   "source": [
    "#criando um objeto series\n",
    "obj = pd.Series(np.arange(4), index=['a','b','c','d'])\n",
    "\n",
    "#indexando pelo rótulo\n",
    "print(obj[['c','d']])\n",
    "print(obj['b':'d'])\n",
    "#intervalo direita e esquerda abertos\n",
    "\n",
    "#indexando com números inteiros\n",
    "print(obj[1:3])\n",
    "#intervalo esquerda fechado, direta aberto\n",
    "\n",
    "#indexando com booleanos\n",
    "print(obj[obj>2])"
   ]
  },
  {
   "cell_type": "code",
   "execution_count": 56,
   "metadata": {},
   "outputs": [
    {
     "name": "stdout",
     "output_type": "stream",
     "text": [
      "          one  two  three  four\n",
      "Ohio        0    1      2     3\n",
      "Colorado    4    5      6     7\n",
      "Utah        8    9     10    11\n",
      "New York   12   13     14    15\n",
      "          one  two\n",
      "Ohio        0    1\n",
      "Colorado    4    5\n",
      "Utah        8    9\n",
      "New York   12   13\n",
      "          one  two  three  four\n",
      "Ohio      0.0  1.0    2.0   3.0\n",
      "Colorado  4.0  NaN    NaN   NaN\n",
      "Utah      NaN  NaN    NaN   NaN\n",
      "New York  NaN  NaN    NaN   NaN\n",
      "          one  two  three  four\n",
      "Ohio        0    1      2     3\n",
      "Colorado    4    5      6     7\n",
      "Utah        8    9     10    11\n"
     ]
    }
   ],
   "source": [
    "#a indexação em um DF serve para obter uma ou mais colunas\n",
    "data = pd.DataFrame(np.arange(16).reshape(4,4),\n",
    "                   index=['Ohio','Colorado','Utah','New York'],\n",
    "                   columns = ['one','two','three', 'four'])\n",
    "\n",
    "print(data)\n",
    "\n",
    "#indexando pelo rótulo\n",
    "print(data[['one','two']])\n",
    "\n",
    "#indexando por número inteiro(único caso que pega linha, não coluna)\n",
    "print(data[:3])\n",
    "\n",
    "#indexando booleano\n",
    "print(data[data<5])"
   ]
  },
  {
   "cell_type": "markdown",
   "metadata": {},
   "source": [
    "<h3>Loc e iloc"
   ]
  },
  {
   "cell_type": "markdown",
   "metadata": {},
   "source": [
    "Existem dois comandos de indexação especiais: **loc** para localizar linhas e/ou colunas a partir do label e **iloc** para selecionar linhas ou colunas a partir do seu índice inteiro"
   ]
  },
  {
   "cell_type": "code",
   "execution_count": 61,
   "metadata": {},
   "outputs": [
    {
     "name": "stdout",
     "output_type": "stream",
     "text": [
      "two      5\n",
      "three    6\n",
      "Name: Colorado, dtype: int32\n",
      "          one  two\n",
      "Ohio        0    1\n",
      "Colorado    4    5\n",
      "Utah        8    9\n"
     ]
    }
   ],
   "source": [
    "print(data.loc['Colorado', ['two','three']])\n",
    "\n",
    "print(data.iloc[:3,:2])"
   ]
  },
  {
   "cell_type": "markdown",
   "metadata": {},
   "source": [
    "-----\n",
    "df[val] --> seleciona uma coluna ou um intervalo de colunas\n",
    "\n",
    "df.loc[val] --> seleciona uma única linha ou um intervalo de linhas\n",
    "\n",
    "df.loc[:,val] --> seleciona uma única coluna ou um intervalo de colunas\n",
    "\n",
    "df.loc[val1,val2] --> seleciona um intervalo de linhas e colunas\n",
    "\n",
    "df.iloc[int] --> seleciona linha(s) a partir de inteiro(s)\n",
    "\n",
    "df.iloc[,int] --> seleciona coluna(s) a partir de inteiro(s)\n",
    "\n",
    "df.iloc[int1,int2] --> seleciona linhas e colunas a partir de inteiro(s)\n",
    "\n",
    "df.at[label1,label2] --> seleciona ponto do dataframe a partir de rótulos\n",
    "\n",
    "df.iat[i,j] --> seleciona ponto do dataframe a partir de inteiros\n",
    "\n",
    "\n",
    "----"
   ]
  },
  {
   "cell_type": "markdown",
   "metadata": {},
   "source": [
    "<h3>Métodos Aritméticos"
   ]
  },
  {
   "cell_type": "code",
   "execution_count": 69,
   "metadata": {},
   "outputs": [
    {
     "name": "stdout",
     "output_type": "stream",
     "text": [
      "a     9.0\n",
      "b     NaN\n",
      "c    12.0\n",
      "d     NaN\n",
      "e     3.0\n",
      "dtype: float64\n",
      "a     9.0\n",
      "b     2.0\n",
      "c    12.0\n",
      "d     5.0\n",
      "e     3.0\n",
      "dtype: float64\n",
      "a   -10.0\n",
      "b     0.0\n",
      "c     2.0\n",
      "d     inf\n",
      "e    -0.4\n",
      "dtype: float64\n",
      "a   -0.1\n",
      "b    inf\n",
      "c    0.5\n",
      "d    0.0\n",
      "e   -2.5\n",
      "dtype: float64\n"
     ]
    }
   ],
   "source": [
    "s1 = Series([10,8,5,-2], index=['a','c','d','e'])\n",
    "s2 = Series([2,4,-1,5],index=['b','c','a','e'])\n",
    "\n",
    "#soma simples\n",
    "print(s1 + s2)\n",
    "\n",
    "#lidando com os NaN\n",
    "print(s1.add(s2,fill_value=0))\n",
    "\n",
    "#Cada operação tem uma contrapartida que começa com a letra 'r' que lida com os argumentos invertidos\n",
    "print(s1.div(s2,fill_value=0))\n",
    "print(s1.rdiv(s2, fill_value=0))"
   ]
  },
  {
   "cell_type": "markdown",
   "metadata": {},
   "source": [
    "<h3>Operações entre Dataframes e Series"
   ]
  },
  {
   "cell_type": "markdown",
   "metadata": {},
   "source": [
    "O conceito mais importante das operações definidas entre Series e Dataframe é o de **broadcasting**, vejamos:"
   ]
  },
  {
   "cell_type": "code",
   "execution_count": 74,
   "metadata": {},
   "outputs": [
    {
     "name": "stdout",
     "output_type": "stream",
     "text": [
      "[[ 0  1  2  3]\n",
      " [ 4  5  6  7]\n",
      " [ 8  9 10 11]]\n",
      "[0 1 2 3]\n"
     ]
    },
    {
     "data": {
      "text/plain": [
       "array([[0, 0, 0, 0],\n",
       "       [4, 4, 4, 4],\n",
       "       [8, 8, 8, 8]])"
      ]
     },
     "execution_count": 74,
     "metadata": {},
     "output_type": "execute_result"
    }
   ],
   "source": [
    "arr = np.arange(12).reshape(3,4)\n",
    "print(arr)\n",
    "print(arr[0])\n",
    "\n",
    "#agora o broadcasting\n",
    "arr - arr[0]\n",
    "\n",
    "#broadcasting é quando fazemos a mesma operação ao longo de todas as linhas os colunas"
   ]
  },
  {
   "cell_type": "code",
   "execution_count": 81,
   "metadata": {},
   "outputs": [
    {
     "name": "stdout",
     "output_type": "stream",
     "text": [
      "   b   d   e\n",
      "0  0   1   2\n",
      "1  3   4   5\n",
      "2  6   7   8\n",
      "3  9  10  11\n",
      "b    0\n",
      "d    1\n",
      "e    2\n",
      "Name: 0, dtype: int32\n"
     ]
    },
    {
     "data": {
      "text/html": [
       "<div>\n",
       "<style scoped>\n",
       "    .dataframe tbody tr th:only-of-type {\n",
       "        vertical-align: middle;\n",
       "    }\n",
       "\n",
       "    .dataframe tbody tr th {\n",
       "        vertical-align: top;\n",
       "    }\n",
       "\n",
       "    .dataframe thead th {\n",
       "        text-align: right;\n",
       "    }\n",
       "</style>\n",
       "<table border=\"1\" class=\"dataframe\">\n",
       "  <thead>\n",
       "    <tr style=\"text-align: right;\">\n",
       "      <th></th>\n",
       "      <th>b</th>\n",
       "      <th>d</th>\n",
       "      <th>e</th>\n",
       "    </tr>\n",
       "  </thead>\n",
       "  <tbody>\n",
       "    <tr>\n",
       "      <th>0</th>\n",
       "      <td>0</td>\n",
       "      <td>0</td>\n",
       "      <td>0</td>\n",
       "    </tr>\n",
       "    <tr>\n",
       "      <th>1</th>\n",
       "      <td>3</td>\n",
       "      <td>3</td>\n",
       "      <td>3</td>\n",
       "    </tr>\n",
       "    <tr>\n",
       "      <th>2</th>\n",
       "      <td>6</td>\n",
       "      <td>6</td>\n",
       "      <td>6</td>\n",
       "    </tr>\n",
       "    <tr>\n",
       "      <th>3</th>\n",
       "      <td>9</td>\n",
       "      <td>9</td>\n",
       "      <td>9</td>\n",
       "    </tr>\n",
       "  </tbody>\n",
       "</table>\n",
       "</div>"
      ],
      "text/plain": [
       "   b  d  e\n",
       "0  0  0  0\n",
       "1  3  3  3\n",
       "2  6  6  6\n",
       "3  9  9  9"
      ]
     },
     "execution_count": 81,
     "metadata": {},
     "output_type": "execute_result"
    }
   ],
   "source": [
    "#Outra maneira de fazer broadcasting, agora com DF\n",
    "frame = DataFrame(np.arange(12).reshape(4,3),columns=list('bde'))\n",
    "print(frame)\n",
    "\n",
    "series = frame.iloc[0]\n",
    "print(series)\n",
    "\n",
    "#broadcasting de um series em um framing\n",
    "frame-series"
   ]
  },
  {
   "cell_type": "markdown",
   "metadata": {},
   "source": [
    "<h3> Funções e Mapping"
   ]
  },
  {
   "cell_type": "markdown",
   "metadata": {},
   "source": [
    "As **ufuncs** do numpy também funcionam no pandas! Além disso, podemos aplicar funções em todo o dataframe usando o método apply(). Isso é chamado de **mapping**"
   ]
  },
  {
   "cell_type": "code",
   "execution_count": 84,
   "metadata": {},
   "outputs": [
    {
     "name": "stdout",
     "output_type": "stream",
     "text": [
      "   b  d  e\n",
      "0 -6 -5 -4\n",
      "1 -3 -2 -1\n",
      "2  0  1  2\n",
      "3  3  4  5\n",
      "   b  d  e\n",
      "0  6  5  4\n",
      "1  3  2  1\n",
      "2  0  1  2\n",
      "3  3  4  5\n"
     ]
    }
   ],
   "source": [
    "#usando ufuncs\n",
    "frame = DataFrame(np.arange(-6,6,step=1).reshape(4,3),columns=list('bde'))\n",
    "print(frame)\n",
    "print(np.abs(frame))"
   ]
  },
  {
   "cell_type": "code",
   "execution_count": 86,
   "metadata": {},
   "outputs": [
    {
     "name": "stdout",
     "output_type": "stream",
     "text": [
      "b    9\n",
      "d    9\n",
      "e    9\n",
      "dtype: int64\n",
      "0    2\n",
      "1    2\n",
      "2    2\n",
      "3    2\n",
      "dtype: int64\n"
     ]
    }
   ],
   "source": [
    "#usando lambda functions\n",
    "f = lambda x: x.max() - x.min()\n",
    "print(frame.apply(f, axis=0))\n",
    "print(frame.apply(f, axis=1))"
   ]
  },
  {
   "cell_type": "markdown",
   "metadata": {},
   "source": [
    "<h3>Ordenação e Classificação"
   ]
  },
  {
   "cell_type": "code",
   "execution_count": 95,
   "metadata": {},
   "outputs": [
    {
     "name": "stdout",
     "output_type": "stream",
     "text": [
      "d    0\n",
      "a    1\n",
      "b    2\n",
      "c    3\n",
      "dtype: int64\n",
      "a    1\n",
      "b    2\n",
      "c    3\n",
      "d    0\n",
      "dtype: int64\n",
      "   red  yellow  blue  purple\n",
      "3    0       1     2       3\n",
      "2    4       5     6       7\n",
      "1    8       9    10      11\n",
      "4   12      13    14      15\n",
      "   red  yellow  blue  purple\n",
      "1    8       9    10      11\n",
      "2    4       5     6       7\n",
      "3    0       1     2       3\n",
      "4   12      13    14      15\n",
      "   blue  purple  red  yellow\n",
      "3     2       3    0       1\n",
      "2     6       7    4       5\n",
      "1    10      11    8       9\n",
      "4    14      15   12      13\n"
     ]
    }
   ],
   "source": [
    "#sort_index()\n",
    "\n",
    "#em Series\n",
    "obj = pd.Series(range(4),index=['d','a','b','c'])\n",
    "print(obj)\n",
    "print(obj.sort_index())\n",
    "\n",
    "#em DataFrame\n",
    "frame = DataFrame(np.arange(16).reshape(4,4), index = [3,2,1,4], columns = ['red','yellow','blue','purple'])\n",
    "print(frame)\n",
    "print(frame.sort_index(axis=0))\n",
    "print(frame.sort_index(axis=1))"
   ]
  },
  {
   "cell_type": "code",
   "execution_count": 101,
   "metadata": {},
   "outputs": [
    {
     "name": "stdout",
     "output_type": "stream",
     "text": [
      "d    -2.0\n",
      "b     8.0\n",
      "a    10.0\n",
      "c     NaN\n",
      "dtype: float64\n",
      "   b  a\n",
      "0  4  0\n",
      "1  7  1\n",
      "2 -3  0\n",
      "3  2  1\n",
      "   b  a\n",
      "2 -3  0\n",
      "3  2  1\n",
      "0  4  0\n",
      "1  7  1\n"
     ]
    }
   ],
   "source": [
    "#sort_values()\n",
    "obj = pd.Series([10,8,np.nan,-2],index=['a','b','c','d'])\n",
    "\n",
    "#em Series\n",
    "print(obj.sort_values())\n",
    "\n",
    "#em DataFrame\n",
    "frame = pd.DataFrame({'b':[4,7,-3,2], 'a': [0,1,0,1]})\n",
    "print(frame)\n",
    "print(frame.sort_values(by='b'))"
   ]
  },
  {
   "cell_type": "code",
   "execution_count": 102,
   "metadata": {},
   "outputs": [],
   "source": [
    "#outra maneira é usar o método rank herdado em Series e Dataframe. Para isso, consultar a documentação."
   ]
  },
  {
   "cell_type": "markdown",
   "metadata": {},
   "source": [
    "<h3>Eixos com rótulos duplicados"
   ]
  },
  {
   "cell_type": "code",
   "execution_count": 105,
   "metadata": {},
   "outputs": [
    {
     "name": "stdout",
     "output_type": "stream",
     "text": [
      "False\n",
      "a    0\n",
      "a    1\n",
      "dtype: int64\n"
     ]
    }
   ],
   "source": [
    "#para descobrir se um eixo possui rótulos duplicados, usar o is_unique\n",
    "\n",
    "obj = pd.Series(range(5), index=['a','a','b','b','c'])\n",
    "print(obj.index.is_unique)\n",
    "print(obj['a']) \n",
    "\n",
    "#sempre tratar esses casos para não ter resultados errôneos"
   ]
  },
  {
   "cell_type": "markdown",
   "metadata": {},
   "source": [
    "<h2>Estatísticas Descritivas"
   ]
  },
  {
   "cell_type": "markdown",
   "metadata": {},
   "source": [
    "Objetos pandas vem equipados com um conjunto de métodos matemáticos e estatísticos. A maior parte deles se enquadra na categoria de **reduções** ou **estatística descritiva**, transformando um objeto tipo Series em um valor único ou um DataFrame em um objeto tipo Series."
   ]
  },
  {
   "cell_type": "code",
   "execution_count": 114,
   "metadata": {},
   "outputs": [
    {
     "name": "stdout",
     "output_type": "stream",
     "text": [
      "    one  two\n",
      "a  1.40  NaN\n",
      "b  7.10 -4.5\n",
      "c   NaN  NaN\n",
      "d  0.75 -1.3\n",
      "As somas das colunas DF são:\n",
      " one    9.25\n",
      "two   -5.80\n",
      "dtype: float64\n",
      "As somas das linhas do DF são:\n",
      " a    1.40\n",
      "b    2.60\n",
      "c    0.00\n",
      "d   -0.55\n",
      "dtype: float64\n",
      "A média é:\n",
      " one    3.083333\n",
      "two   -2.900000\n",
      "dtype: float64\n"
     ]
    },
    {
     "data": {
      "text/html": [
       "<div>\n",
       "<style scoped>\n",
       "    .dataframe tbody tr th:only-of-type {\n",
       "        vertical-align: middle;\n",
       "    }\n",
       "\n",
       "    .dataframe tbody tr th {\n",
       "        vertical-align: top;\n",
       "    }\n",
       "\n",
       "    .dataframe thead th {\n",
       "        text-align: right;\n",
       "    }\n",
       "</style>\n",
       "<table border=\"1\" class=\"dataframe\">\n",
       "  <thead>\n",
       "    <tr style=\"text-align: right;\">\n",
       "      <th></th>\n",
       "      <th>one</th>\n",
       "      <th>two</th>\n",
       "    </tr>\n",
       "  </thead>\n",
       "  <tbody>\n",
       "    <tr>\n",
       "      <th>count</th>\n",
       "      <td>3.000000</td>\n",
       "      <td>2.000000</td>\n",
       "    </tr>\n",
       "    <tr>\n",
       "      <th>mean</th>\n",
       "      <td>3.083333</td>\n",
       "      <td>-2.900000</td>\n",
       "    </tr>\n",
       "    <tr>\n",
       "      <th>std</th>\n",
       "      <td>3.493685</td>\n",
       "      <td>2.262742</td>\n",
       "    </tr>\n",
       "    <tr>\n",
       "      <th>min</th>\n",
       "      <td>0.750000</td>\n",
       "      <td>-4.500000</td>\n",
       "    </tr>\n",
       "    <tr>\n",
       "      <th>25%</th>\n",
       "      <td>1.075000</td>\n",
       "      <td>-3.700000</td>\n",
       "    </tr>\n",
       "    <tr>\n",
       "      <th>50%</th>\n",
       "      <td>1.400000</td>\n",
       "      <td>-2.900000</td>\n",
       "    </tr>\n",
       "    <tr>\n",
       "      <th>75%</th>\n",
       "      <td>4.250000</td>\n",
       "      <td>-2.100000</td>\n",
       "    </tr>\n",
       "    <tr>\n",
       "      <th>max</th>\n",
       "      <td>7.100000</td>\n",
       "      <td>-1.300000</td>\n",
       "    </tr>\n",
       "  </tbody>\n",
       "</table>\n",
       "</div>"
      ],
      "text/plain": [
       "            one       two\n",
       "count  3.000000  2.000000\n",
       "mean   3.083333 -2.900000\n",
       "std    3.493685  2.262742\n",
       "min    0.750000 -4.500000\n",
       "25%    1.075000 -3.700000\n",
       "50%    1.400000 -2.900000\n",
       "75%    4.250000 -2.100000\n",
       "max    7.100000 -1.300000"
      ]
     },
     "execution_count": 114,
     "metadata": {},
     "output_type": "execute_result"
    }
   ],
   "source": [
    "#criando o DF\n",
    "\n",
    "df = DataFrame([[1.4,np.nan], [7.1,-4.5],\n",
    "               [np.nan,np.nan], [0.75,-1.3]],\n",
    "               index = ['a','b','c','d'],\n",
    "               columns = ['one','two'])\n",
    "\n",
    "print(df)\n",
    "print(\"As somas das colunas DF são:\\n\",df.sum(axis=0))\n",
    "print(\"As somas das linhas do DF são:\\n\",df.sum(axis=1))\n",
    "print(\"A média é:\\n\",df.mean(axis=0))\n",
    "#estatísticas descritivas\n",
    "df.describe()\n",
    "\n",
    "#para mais detalhes, checkar: https://pandas.pydata.org/pandas-docs/stable/user_guide/basics.html"
   ]
  },
  {
   "cell_type": "markdown",
   "metadata": {},
   "source": [
    "<h3>Correlação e Covariância"
   ]
  },
  {
   "cell_type": "markdown",
   "metadata": {},
   "source": [
    "Algumas estatísticas de resumo, como **correlação** e **covariância** são calculadas a partir de pares de argumentos. Veremos isso a partir de algumas estatísticas do nosso estudo de caso específico: as Big Tech Companies (retirado do Yahoo Finanças."
   ]
  },
  {
   "cell_type": "code",
   "execution_count": 133,
   "metadata": {},
   "outputs": [
    {
     "name": "stdout",
     "output_type": "stream",
     "text": [
      "                AAPL      AMZN      MSFT      GOOG        FB\n",
      "Date                                                        \n",
      "2021-02-08  0.001097 -0.008714  0.001115 -0.002426 -0.005670\n",
      "2021-02-09 -0.006574 -0.005399  0.005362 -0.004491  0.010766\n",
      "2021-02-10 -0.004558 -0.005573 -0.003897  0.005697  0.008981\n",
      "2021-02-11 -0.001920 -0.007439  0.006878  0.000243 -0.005444\n",
      "2021-02-12  0.001776  0.004776  0.002045  0.003922  0.000407\n",
      "          AAPL      AMZN      MSFT      GOOG        FB\n",
      "AAPL  1.000000  0.610368  0.709089  0.650456  0.592934\n",
      "AMZN  0.610368  1.000000  0.700435  0.664304  0.617401\n",
      "MSFT  0.709089  0.700435  1.000000  0.777694  0.633995\n",
      "GOOG  0.650456  0.664304  0.777694  1.000000  0.684334\n",
      "FB    0.592934  0.617401  0.633995  0.684334  1.000000\n",
      "AAPL    0.610368\n",
      "AMZN    1.000000\n",
      "MSFT    0.700435\n",
      "GOOG    0.664304\n",
      "FB      0.617401\n",
      "dtype: float64\n"
     ]
    }
   ],
   "source": [
    "import pandas_datareader.data as web\n",
    "all_data = {ticker:web.get_data_yahoo(ticker) for ticker in ['AAPL','AMZN','MSFT','GOOG','FB']}\n",
    "\n",
    "price = DataFrame({ticker:data['Adj Close'] for ticker,data in all_data.items()})\n",
    "volume = DataFrame({ticker:data['Volume'] for ticker,data in all_data.items()})\n",
    "\n",
    "#podemos calcular as mudanças percentuais nos preços das ações de cada empresa por meio de uma série temporal\n",
    "\n",
    "calculos = price.pct_change()\n",
    "print(calculos.tail())\n",
    "\n",
    "#Podemos calcular a matriz de correlações dos preços das ações entre essas empresas\n",
    "print(calculos.corr())\n",
    "print()\n",
    "\n",
    "#E as correlações de um player específico\n",
    "print(calculos.corrwith(calculos.AMZN))"
   ]
  },
  {
   "cell_type": "markdown",
   "metadata": {},
   "source": [
    "<h3>Valores Únicos, Contadores e Pertinência"
   ]
  },
  {
   "cell_type": "code",
   "execution_count": 144,
   "metadata": {},
   "outputs": [
    {
     "name": "stdout",
     "output_type": "stream",
     "text": [
      "['a' 'b' 'c']\n",
      "b    5\n",
      "a    3\n",
      "c    2\n",
      "dtype: int64\n"
     ]
    }
   ],
   "source": [
    "#valores únicos\n",
    "\n",
    "obj = Series(['c','a','a','b','c','b','a','b','b','b'])\n",
    "uniques = obj.unique()\n",
    "uniques.sort()\n",
    "print(uniques)\n",
    "\n",
    "#contadores\n",
    "print(obj.value_counts())"
   ]
  },
  {
   "cell_type": "code",
   "execution_count": 147,
   "metadata": {},
   "outputs": [
    {
     "name": "stdout",
     "output_type": "stream",
     "text": [
      "0    c\n",
      "1    a\n",
      "2    a\n",
      "3    b\n",
      "4    c\n",
      "5    b\n",
      "6    a\n",
      "7    b\n",
      "8    b\n",
      "9    b\n",
      "dtype: object\n",
      "0     True\n",
      "1    False\n",
      "2    False\n",
      "3     True\n",
      "4     True\n",
      "5     True\n",
      "6    False\n",
      "7     True\n",
      "8     True\n",
      "9     True\n",
      "dtype: bool\n",
      "0    c\n",
      "3    b\n",
      "4    c\n",
      "5    b\n",
      "7    b\n",
      "8    b\n",
      "9    b\n",
      "dtype: object\n"
     ]
    },
    {
     "data": {
      "text/plain": [
       "array([2, 0, 0, 1, 2, 1, 0, 1, 1, 1], dtype=int64)"
      ]
     },
     "execution_count": 147,
     "metadata": {},
     "output_type": "execute_result"
    }
   ],
   "source": [
    "#pertinência de conjuntos\n",
    "print(obj)\n",
    "mask = obj.isin(['b','c'])\n",
    "print(mask)\n",
    "print(obj[mask])\n",
    "\n",
    "#para recuperar os índices de cada valor, basta usar o get_indexer\n",
    "pd.Index(['a','b','c']).get_indexer(obj)"
   ]
  }
 ],
 "metadata": {
  "kernelspec": {
   "display_name": "Python 3",
   "language": "python",
   "name": "python3"
  },
  "language_info": {
   "codemirror_mode": {
    "name": "ipython",
    "version": 3
   },
   "file_extension": ".py",
   "mimetype": "text/x-python",
   "name": "python",
   "nbconvert_exporter": "python",
   "pygments_lexer": "ipython3",
   "version": "3.8.5"
  }
 },
 "nbformat": 4,
 "nbformat_minor": 4
}

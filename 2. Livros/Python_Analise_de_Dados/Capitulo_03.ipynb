{
 "cells": [
  {
   "cell_type": "markdown",
   "metadata": {},
   "source": [
    "<h1> Estrutura de Dados, Funções e Arquivos - Ch3"
   ]
  },
  {
   "cell_type": "code",
   "execution_count": 1,
   "metadata": {},
   "outputs": [
    {
     "name": "stdout",
     "output_type": "stream",
     "text": [
      "1 2\n",
      "[3, 4, 5]\n"
     ]
    }
   ],
   "source": [
    "#Testando descompactar tuplas com *rest\n",
    "\n",
    "values = tuple([1,2,3,4,5])\n",
    "a,b,*rest = values\n",
    "\n",
    "print(a,b)\n",
    "print(rest)"
   ]
  },
  {
   "cell_type": "code",
   "execution_count": 2,
   "metadata": {},
   "outputs": [
    {
     "name": "stdout",
     "output_type": "stream",
     "text": [
      "a=1, b=2, c=3\n",
      "a=4, b=5, c=6\n",
      "a=7, b=8, c=9\n"
     ]
    }
   ],
   "source": [
    "#Loop for diferente para descompactar tuplas\n",
    "\n",
    "seq = [(1,2,3), (4,5,6), (7,8,9)]\n",
    "\n",
    "for a,b,c in seq:\n",
    "    print('a={0}, b={1}, c={2}'.format(a,b,c))"
   ]
  },
  {
   "cell_type": "code",
   "execution_count": 3,
   "metadata": {},
   "outputs": [
    {
     "name": "stdout",
     "output_type": "stream",
     "text": [
      "[1, 2, 3, 5, 7]\n",
      "[1, 2, 3, 5, 7]\n"
     ]
    }
   ],
   "source": [
    "#Passando para listas, o método .sort() ordena a própria lista enquanto a função sorted() cria uma cópia da lista ordenada\n",
    "\n",
    "a = [7,2,5,1,3]\n",
    "a.sort()\n",
    "print(a)\n",
    "\n",
    "b = sorted(a)\n",
    "print(b)"
   ]
  },
  {
   "cell_type": "code",
   "execution_count": 4,
   "metadata": {},
   "outputs": [
    {
     "name": "stdout",
     "output_type": "stream",
     "text": [
      "6\n"
     ]
    },
    {
     "data": {
      "text/plain": [
       "[1, 2, 2, 2, 3, 4, 5, 7]"
      ]
     },
     "execution_count": 4,
     "metadata": {},
     "output_type": "execute_result"
    }
   ],
   "source": [
    "#A biblioteca bisect pode ser muito útil para buscas binárias em uma lista JÁ ORDENADA\n",
    "import bisect\n",
    "lista = [1,2,2,2,3,4,7]\n",
    "\n",
    "#o método bisect retorna a posição adequada para inserirmos um elemento novo. Faremos isso para o elemento 5\n",
    "print(bisect.bisect(lista, 5))\n",
    "\n",
    "#Ele nos retornou a 6a posição da lista, após o número 4\n",
    "#Vamos agora inserir o elemento 5 na lista automaticamente\n",
    "\n",
    "bisect.insort(lista,5)\n",
    "lista"
   ]
  },
  {
   "cell_type": "code",
   "execution_count": 5,
   "metadata": {},
   "outputs": [
    {
     "name": "stdout",
     "output_type": "stream",
     "text": [
      "{0: 'foo', 1: 'bar', 2: 'joy'}\n"
     ]
    }
   ],
   "source": [
    "#Só reforçando a importância da função enumerate()\n",
    "\n",
    "some_list = ['foo','bar','joy']\n",
    "\n",
    "mapping = {}\n",
    "\n",
    "for k, v in enumerate(some_list):\n",
    "    mapping[k] = v\n",
    "\n",
    "print(mapping)"
   ]
  },
  {
   "cell_type": "code",
   "execution_count": 6,
   "metadata": {},
   "outputs": [
    {
     "data": {
      "text/plain": [
       "[('foo', 'one'), ('bar', 'two'), ('joy', 'three')]"
      ]
     },
     "execution_count": 6,
     "metadata": {},
     "output_type": "execute_result"
    }
   ],
   "source": [
    "#Reforçando a importância da função zip para parear elementos de listas ou tuplas distintas\n",
    "\n",
    "seq_01 = ['foo','bar','joy']\n",
    "seq_02 = ['one','two','three']\n",
    "\n",
    "zipped = zip(seq_01, seq_02)\n",
    "\n",
    "#é preciso descompactar o objeto zip usando o comando list()\n",
    "list(zipped)"
   ]
  },
  {
   "cell_type": "code",
   "execution_count": 7,
   "metadata": {},
   "outputs": [
    {
     "data": {
      "text/plain": [
       "{'1': 500, '2': 1000, '3': 1500}"
      ]
     },
     "execution_count": 7,
     "metadata": {},
     "output_type": "execute_result"
    }
   ],
   "source": [
    "#Podemos também mapear dicionários a partir de sequências\n",
    "\n",
    "keys = ['1', '2','3']\n",
    "values = [500, 1000, 1500]\n",
    "mapping = {}\n",
    "\n",
    "for key,value in zip(keys,values):\n",
    "    mapping[key] = value\n",
    "\n",
    "mapping"
   ]
  },
  {
   "cell_type": "code",
   "execution_count": 8,
   "metadata": {},
   "outputs": [
    {
     "data": {
      "text/plain": [
       "{'a': ['apple', 'amen', 'atom'], 'b': ['bat', 'bar', 'battery', 'book']}"
      ]
     },
     "execution_count": 8,
     "metadata": {},
     "output_type": "execute_result"
    }
   ],
   "source": [
    "#Valores default são um conceito importante e nem sempre utilizados\n",
    "\n",
    "words = ['apple','bat', 'bar', 'battery', 'amen', 'atom','book']\n",
    "\n",
    "by_letter = {}\n",
    "\n",
    "for word in words:\n",
    "    #recupera a primeira letra da palavra\n",
    "    letter = word[0]\n",
    "    #Se a letra não estiver no dicionário cria uma lista\n",
    "    if letter not in by_letter:\n",
    "        by_letter[letter] = [word]\n",
    "    #Se a letra inicial já existir no dicionário, só amplia a lista\n",
    "    else:\n",
    "        by_letter[letter].append(word)\n",
    "    \n",
    "by_letter"
   ]
  },
  {
   "cell_type": "code",
   "execution_count": 9,
   "metadata": {},
   "outputs": [
    {
     "name": "stdout",
     "output_type": "stream",
     "text": [
      "{'a': ['apple', 'amen', 'atom'], 'b': ['bat', 'bar', 'battery', 'book']}\n"
     ]
    }
   ],
   "source": [
    "#Poderíamos reescrever a célula anterior a partir do método setdefault\n",
    "\n",
    "by_letter = {}\n",
    "\n",
    "#Para o método .setdefault() colocamos primeiro o valor default, depois o valor condicional\n",
    "#fica assim então: dicionario.setdefault(valor_default, valor_condicional=NONE)\n",
    "\n",
    "for word in words:\n",
    "    letter = word[0]\n",
    "    by_letter.setdefault(letter, []).append(word)\n",
    "\n",
    "print(by_letter)"
   ]
  },
  {
   "cell_type": "markdown",
   "metadata": {},
   "source": [
    "Os valores de um dicionário podem ser de qualquer tipo, já as chaves precisam ser imutáveis (hashable).\n",
    "\n",
    "A função *hash()* nos ajuda a descobrir quais tipos de dados são mutáveis ou imutáveis."
   ]
  },
  {
   "cell_type": "code",
   "execution_count": 10,
   "metadata": {},
   "outputs": [
    {
     "name": "stdout",
     "output_type": "stream",
     "text": [
      "4913233019112863333\n",
      "-9209053662355515447\n",
      "20\n"
     ]
    }
   ],
   "source": [
    "print(hash('string'))\n",
    "print(hash((1,2,(2,3))))\n",
    "print(hash(20))"
   ]
  },
  {
   "cell_type": "code",
   "execution_count": 11,
   "metadata": {},
   "outputs": [
    {
     "ename": "TypeError",
     "evalue": "unhashable type: 'list'",
     "output_type": "error",
     "traceback": [
      "\u001b[1;31m---------------------------------------------------------------------------\u001b[0m",
      "\u001b[1;31mTypeError\u001b[0m                                 Traceback (most recent call last)",
      "\u001b[1;32m<ipython-input-11-25ac95053a99>\u001b[0m in \u001b[0;36m<module>\u001b[1;34m\u001b[0m\n\u001b[0;32m      1\u001b[0m \u001b[1;31m#quando usamos a função hash em um tipo de dados mutável, recebemos um erro:\u001b[0m\u001b[1;33m\u001b[0m\u001b[1;33m\u001b[0m\u001b[1;33m\u001b[0m\u001b[0m\n\u001b[0;32m      2\u001b[0m \u001b[1;33m\u001b[0m\u001b[0m\n\u001b[1;32m----> 3\u001b[1;33m \u001b[0mhash\u001b[0m\u001b[1;33m(\u001b[0m\u001b[1;33m[\u001b[0m\u001b[1;36m2\u001b[0m\u001b[1;33m,\u001b[0m\u001b[1;36m4\u001b[0m\u001b[1;33m,\u001b[0m\u001b[1;36m6\u001b[0m\u001b[1;33m]\u001b[0m\u001b[1;33m)\u001b[0m\u001b[1;33m\u001b[0m\u001b[1;33m\u001b[0m\u001b[0m\n\u001b[0m",
      "\u001b[1;31mTypeError\u001b[0m: unhashable type: 'list'"
     ]
    }
   ],
   "source": [
    "#quando usamos a função hash em um tipo de dados mutável, recebemos um erro:\n",
    "\n",
    "hash([2,4,6])"
   ]
  },
  {
   "cell_type": "markdown",
   "metadata": {},
   "source": [
    "<h2> Brincando com sets"
   ]
  },
  {
   "cell_type": "markdown",
   "metadata": {},
   "source": [
    "Set são conjuntos, uma coleção ordenada de elementos únicos. São como dicionários só com as chaves, sem os valores."
   ]
  },
  {
   "cell_type": "code",
   "execution_count": null,
   "metadata": {},
   "outputs": [],
   "source": [
    "#Podemos criar sets por meio de uma função:\n",
    "\n",
    "conjunto = set([1,2,2,2,3,1,1,2,3,3,3])\n",
    "print(conjunto)\n",
    "\n",
    "#Ou por meio da mesma sintáxe que o dicionário\n",
    "\n",
    "conjunto = {1,2,2,2,1,1,1,3,3,3,1,2,1,3,1,2,3}\n",
    "print(conjunto)"
   ]
  },
  {
   "cell_type": "markdown",
   "metadata": {},
   "source": [
    "Podemos fazer operações matemáticas de conjuntos com os sets, como união, intersecção e diferença"
   ]
  },
  {
   "cell_type": "code",
   "execution_count": null,
   "metadata": {},
   "outputs": [],
   "source": [
    "a = {1,2,3,4,5}\n",
    "b = {3,4,5,6,7,8}\n",
    "\n",
    "print(a.union(b))\n",
    "print(a.intersection(b))\n",
    "print(a.difference(b))\n",
    "print(b.difference(a))"
   ]
  },
  {
   "cell_type": "markdown",
   "metadata": {},
   "source": [
    "Para ver todas as operações possíveis, é só apertar tab na última linha a seguir"
   ]
  },
  {
   "cell_type": "code",
   "execution_count": null,
   "metadata": {},
   "outputs": [],
   "source": [
    "set01 = set()\n",
    "set01."
   ]
  },
  {
   "cell_type": "markdown",
   "metadata": {},
   "source": [
    "Assim como seria em um dicionário, para colocar uma lista em um objeto set precisaríamos primeiro convertê-lo em uma tupla"
   ]
  },
  {
   "cell_type": "code",
   "execution_count": null,
   "metadata": {},
   "outputs": [],
   "source": [
    "my_data = [1,2,3,4]\n",
    "my_set = tuple(my_data)\n",
    "my_set"
   ]
  },
  {
   "cell_type": "markdown",
   "metadata": {},
   "source": [
    "Também podemos verificar se um conjunto contém ou está contido em outro"
   ]
  },
  {
   "cell_type": "code",
   "execution_count": null,
   "metadata": {},
   "outputs": [],
   "source": [
    "conj_01 = {1,2,3,4,5}\n",
    "conj_02 = {0,1,2,3,4,5,6,7,8,9}\n",
    "\n",
    "print(conj_01.issubset(conj_02))\n",
    "print(conj_02.issuperset(conj_01))\n",
    "print(conj_02.issubset(conj_01))"
   ]
  },
  {
   "cell_type": "markdown",
   "metadata": {},
   "source": [
    "<h2> List, Set e Dict Comprehension"
   ]
  },
  {
   "cell_type": "code",
   "execution_count": null,
   "metadata": {},
   "outputs": [],
   "source": [
    "programming_languages = ['C','C++', 'C#', 'Java', 'Javascript', 'Python', 'Ruby', 'HTML', 'CSS', 'Go']\n",
    "\n",
    "#list comprehension\n",
    "print([s.lower() for s in programming_languages if len(s)>=3])\n",
    "\n",
    "#set comprehension\n",
    "word_len = {len(x) for x in programming_languages}\n",
    "print(word_len)\n",
    "\n",
    "#dict comprehension\n",
    "loc_mapping = {indice:(\"Linguagem \" + valor) for indice, valor in enumerate(programming_languages)}\n",
    "print(loc_mapping)"
   ]
  },
  {
   "cell_type": "code",
   "execution_count": null,
   "metadata": {},
   "outputs": [],
   "source": [
    "#Aninhamento\n",
    "\n",
    "all_data = [[\"John\", \"Emily\", \"Peter\", \"Mary\", \"James\"], [\"João\", \"Emília\", \"Pedro\", \"Maria\", \"Tiago\"]]\n",
    "\n",
    "#Verificando todos os nomes com 2 os.\n",
    "#[output for variavel_01 in lista_maior for variavel_02 in lista_menor if condição_lista-menor]\n",
    "\n",
    "resultado = [name for names in all_data for name in names if name.count('o') >=2]\n",
    "print(resultado)\n",
    "\n",
    "#Outro exemplo com tuplas numéricas\n",
    "\n",
    "some_tuples = [(1,2,3), (4,5,6), (7,8,9)]\n",
    "\n",
    "flattened = [number for numbers in some_tuples for number in numbers]\n",
    "print(flattened)\n",
    "\n",
    "#Uma sintáxe diferente que transforma as tuplas em listas\n",
    "some_lists = [[n for n in tup] for tup in some_tuples]\n",
    "print(some_lists)"
   ]
  },
  {
   "cell_type": "markdown",
   "metadata": {},
   "source": [
    "<h2> Funções"
   ]
  },
  {
   "cell_type": "raw",
   "metadata": {},
   "source": [
    "Argumentos posicionais são obrigatórios (positional arguments) e argumentos nomeados (keyword arguments) são obrigatórios"
   ]
  },
  {
   "cell_type": "code",
   "execution_count": null,
   "metadata": {},
   "outputs": [],
   "source": [
    "def soma_sub (x,y, z=1):\n",
    "    if z>=1:\n",
    "        return x + y\n",
    "    if z<1:\n",
    "        return x-y\n",
    "\n",
    "    #no caso, x e y são posicionais e z é nomeado\n",
    "\n",
    "print(soma_sub(2,3))\n",
    "print(soma_sub(2,3,0))\n",
    "print(soma_sub(3,4,1))"
   ]
  },
  {
   "cell_type": "markdown",
   "metadata": {},
   "source": [
    "Namespace é uma outra designação para escopo de função (local e global)"
   ]
  },
  {
   "cell_type": "code",
   "execution_count": null,
   "metadata": {},
   "outputs": [],
   "source": [
    "a = None\n",
    "\n",
    "def bind_list():\n",
    "    global a \n",
    "    a = [1,2,3]\n",
    "\n",
    "bind_list()\n",
    "print(a)"
   ]
  },
  {
   "cell_type": "markdown",
   "metadata": {},
   "source": [
    "Quando uma função retorna \"diversos valores\", na verdade está devolvendo uma tupla. Podemos descompactá-los ou trabalhar com a tupla."
   ]
  },
  {
   "cell_type": "code",
   "execution_count": null,
   "metadata": {},
   "outputs": [],
   "source": [
    "def f():\n",
    "    a=5\n",
    "    b=6\n",
    "    c=7\n",
    "    return a,b,c\n",
    "\n",
    "\n",
    "valores = f()\n",
    "print(valores)\n",
    "\n",
    "v1,v2,v3 = f()\n",
    "print(v3)"
   ]
  },
  {
   "cell_type": "markdown",
   "metadata": {},
   "source": [
    "**Funções também são objetos!** Por isso, podemos funções que queremos aplicar sequencialmente em uma lista e aplicá-las. Veja o exemplo"
   ]
  },
  {
   "cell_type": "code",
   "execution_count": null,
   "metadata": {},
   "outputs": [],
   "source": [
    "import re\n",
    "\n",
    "estados = [\"São Paulo\", \"são paulo\", \"São paulo?\", \"Bahia\", \"Rio de Janeiro!\", \"#ParAná\"]\n",
    "\n",
    "def remove_ponctuation(value):\n",
    "    return re.sub('[!#?]', '',value)\n",
    "\n",
    "#Todas as funções que iremos utilizar\n",
    "clean_fxns = [str.strip, remove_ponctuation, str.title]\n",
    "\n",
    "def clean_strings(strings,clean_functions):\n",
    "    result = []\n",
    "    for value in strings:\n",
    "        for function in clean_functions:\n",
    "            value = function(value)\n",
    "        result.append(value)\n",
    "    return result\n",
    "\n",
    "cs = clean_strings(estados,clean_fxns)\n",
    "print(set(cs))"
   ]
  },
  {
   "cell_type": "markdown",
   "metadata": {},
   "source": [
    "Um exemplo do uso de funções em outras funções é a função map() que aplica uma função em um determinado conjunto de dados."
   ]
  },
  {
   "cell_type": "code",
   "execution_count": null,
   "metadata": {},
   "outputs": [],
   "source": [
    "for x in map(remove_ponctuation, estados):\n",
    "    print(x)"
   ]
  },
  {
   "cell_type": "markdown",
   "metadata": {},
   "source": [
    "Utilizamos **currying** quando queremos simplificar uma função aplicando parcialmente alguns argumentos. Por exemplo:"
   ]
  },
  {
   "cell_type": "code",
   "execution_count": null,
   "metadata": {},
   "outputs": [],
   "source": [
    "def add(x,y):\n",
    "    return x+y\n",
    "\n",
    "#Se x for sempre 5, poderíamos fazer\n",
    "add_five = lambda y: add(5,y)\n",
    "\n",
    "#Agora se usarmos add_five\n",
    "print(add_five(2))"
   ]
  },
  {
   "cell_type": "markdown",
   "metadata": {},
   "source": [
    "<h2>Geradores (Generators) e Expressões Geradoras (Generator Expressions)"
   ]
  },
  {
   "cell_type": "markdown",
   "metadata": {},
   "source": [
    "Um gerador é uma nova forma concisa de construir um objeto que seja iterável. Enquanto funções usuais executam e devolvem um único resultado de cada vez, os geradores devolvem uma sequência de vários resultados em modo lazy, fazendo uma pausa após cada um até que o próximo resultado seja solicitado. Para criar um gerador, basta usar a palavra reservada **yield** ao invés de *return* em uma função."
   ]
  },
  {
   "cell_type": "code",
   "execution_count": 12,
   "metadata": {},
   "outputs": [
    {
     "name": "stdout",
     "output_type": "stream",
     "text": [
      "<generator object squares at 0x000002203EC29A50>\n",
      "\n",
      "Gerando os quadrados de 1 a 10\n",
      "1 4 9 16 25 36 49 64 81 100 \n",
      "Gerando os quadrados de 1 a 15\n",
      "1|4|9|16|25|36|49|64|81|100|121|144|169|196|225|"
     ]
    }
   ],
   "source": [
    "def squares(n=10):\n",
    "    print(\"\\nGerando os quadrados de 1 a {0}\".format(n))\n",
    "    for i in range(1, n+1):\n",
    "        yield i**2\n",
    "\n",
    "#Squares() só devolve um objeto gerador\n",
    "print(squares())\n",
    "\n",
    "#Para solicitar os elementos de um gerador, precisamos de um laço for\n",
    "for x in squares():\n",
    "    print(x, end = ' ')\n",
    "    \n",
    "for x in squares(15):\n",
    "    print(x, end = '|')"
   ]
  },
  {
   "cell_type": "markdown",
   "metadata": {},
   "source": [
    "Outra forma mais concisa de criar um gerador é por meio de uma **expressão geradora (genexpr)**. Basa usar um list comprehension entre parêntese ao invés de entre colchetes."
   ]
  },
  {
   "cell_type": "code",
   "execution_count": 13,
   "metadata": {},
   "outputs": [
    {
     "name": "stdout",
     "output_type": "stream",
     "text": [
      "<generator object <genexpr> at 0x000002203EB7B510>\n",
      "\n",
      "[0, 1, 4, 9, 16, 25, 36, 49, 64, 81, 100, 121, 144, 169, 196, 225, 256, 289, 324, 361, 400, 441, 484, 529, 576, 625, 676, 729, 784, 841, 900, 961, 1024, 1089, 1156, 1225, 1296, 1369, 1444, 1521, 1600, 1681, 1764, 1849, 1936, 2025, 2116, 2209, 2304, 2401, 2500, 2601, 2704, 2809, 2916, 3025, 3136, 3249, 3364, 3481, 3600, 3721, 3844, 3969, 4096, 4225, 4356, 4489, 4624, 4761, 4900, 5041, 5184, 5329, 5476, 5625, 5776, 5929, 6084, 6241, 6400, 6561, 6724, 6889, 7056, 7225, 7396, 7569, 7744, 7921, 8100, 8281, 8464, 8649, 8836, 9025, 9216, 9409, 9604, 9801] \n",
      "\n",
      "0\n"
     ]
    }
   ],
   "source": [
    "gen = (x**2 for x in range(100))\n",
    "print(gen)\n",
    "print()\n",
    "print(list(gen), end = ' ')\n",
    "print('\\n')\n",
    "print(sum(gen))"
   ]
  },
  {
   "cell_type": "markdown",
   "metadata": {},
   "source": [
    "O módulo **itertools** tem uma série de funções geradoras que podem nos ser bastante úteis"
   ]
  },
  {
   "cell_type": "code",
   "execution_count": null,
   "metadata": {},
   "outputs": [],
   "source": [
    "import itertools\n",
    "\n",
    "first_letter = lambda x : x[0]\n",
    "\n",
    "names = ['Gustavo Ferratti', 'Juliana', 'Raul', 'Kátia', 'Rodolfo', 'Gustavo Schimidt', 'Victor', 'Paula']\n",
    "names = sorted(names)\n",
    "names_groupby = itertools.groupby(names, first_letter)\n",
    "\n",
    "for letter, names in names_groupby:\n",
    "    print(letter, list(names))#names é um gerador, por isso usamos list()\n",
    "\n",
    "#Importante! Para o groupby dar certo a lista precisa estar ORDENADA!!!"
   ]
  },
  {
   "cell_type": "code",
   "execution_count": null,
   "metadata": {},
   "outputs": [],
   "source": [
    "from itertools import combinations, permutations\n",
    "\n",
    "#combinação ignora a ordem\n",
    "lista_01 = ['pato','ganso','macaco','mosca']\n",
    "comb = combinations(lista_01,2)\n",
    "lista_comb = [' '.join(conjunto) for conjunto in comb]\n",
    "print(lista_comb)\n",
    "\n",
    "#permutação a ordem importa\n",
    "perm = permutations(lista_01,2)\n",
    "lista_perm = [' '.join(conjunto) for conjunto in perm]\n",
    "print(lista_perm)"
   ]
  }
 ],
 "metadata": {
  "kernelspec": {
   "display_name": "Python 3",
   "language": "python",
   "name": "python3"
  },
  "language_info": {
   "codemirror_mode": {
    "name": "ipython",
    "version": 3
   },
   "file_extension": ".py",
   "mimetype": "text/x-python",
   "name": "python",
   "nbconvert_exporter": "python",
   "pygments_lexer": "ipython3",
   "version": "3.8.5"
  }
 },
 "nbformat": 4,
 "nbformat_minor": 4
}

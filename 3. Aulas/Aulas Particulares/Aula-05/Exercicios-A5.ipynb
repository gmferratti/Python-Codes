{
 "cells": [
  {
   "cell_type": "markdown",
   "metadata": {},
   "source": [
    "<h1>Exercícios Resolvidos"
   ]
  },
  {
   "cell_type": "markdown",
   "metadata": {},
   "source": [
    "Aprendendo sobre encapsualmento de funções e passagem de funções como argumentos"
   ]
  },
  {
   "cell_type": "code",
   "execution_count": 2,
   "metadata": {},
   "outputs": [
    {
     "name": "stdout",
     "output_type": "stream",
     "text": [
      "Spam!\n",
      "Spam!\n"
     ]
    }
   ],
   "source": [
    "#Exercício 01 - A\n",
    "def do_twice(f):\n",
    "    f()\n",
    "    f()\n",
    "    \n",
    "def print_spam():\n",
    "    print(\"Spam!\")\n",
    "    \n",
    "do_twice(print_spam)"
   ]
  },
  {
   "cell_type": "code",
   "execution_count": 3,
   "metadata": {},
   "outputs": [
    {
     "name": "stdout",
     "output_type": "stream",
     "text": [
      "Something!\n",
      "Something!\n"
     ]
    }
   ],
   "source": [
    "#Exercício 01 - B\n",
    "def do_twice(f,valor):\n",
    "    f(valor)\n",
    "    f(valor)\n",
    "    \n",
    "def print_something(something):\n",
    "    print(something)\n",
    "\n",
    "do_twice(print_something,\"Something!\")"
   ]
  },
  {
   "cell_type": "code",
   "execution_count": 7,
   "metadata": {},
   "outputs": [
    {
     "name": "stdout",
     "output_type": "stream",
     "text": [
      "Something new!\n",
      "Something new!\n",
      "Something new!\n",
      "Something new!\n"
     ]
    }
   ],
   "source": [
    "#Exercício 01 - C\n",
    "def do_four(f,valor):\n",
    "    do_twice(f,valor)\n",
    "    do_twice(f,valor)\n",
    "    \n",
    "do_four(print_something,\"Something new!\")"
   ]
  },
  {
   "cell_type": "markdown",
   "metadata": {},
   "source": [
    "Função para formar anagramas"
   ]
  },
  {
   "cell_type": "code",
   "execution_count": null,
   "metadata": {},
   "outputs": [],
   "source": [
    "#EXERCICIO 02\n",
    "def embaralha_palavra(string_entrada):\n",
    "    letras = list(string_entrada)\n",
    "    from random import shuffle\n",
    "    shuffle(letras)\n",
    "    out_string = ''.join(letras)\n",
    "    return out_string"
   ]
  },
  {
   "cell_type": "markdown",
   "metadata": {},
   "source": [
    "Função para fazer a moldura"
   ]
  },
  {
   "cell_type": "code",
   "execution_count": 13,
   "metadata": {},
   "outputs": [
    {
     "name": "stdout",
     "output_type": "stream",
     "text": [
      "+------------+\n",
      "|   |   |   |\n",
      "|   |   |   |\n",
      "|   |   |   |\n",
      "|   |   |   |\n",
      "+------------+\n",
      "+------------+\n",
      "|   |   |   |\n",
      "|   |   |   |\n",
      "|   |   |   |\n",
      "|   |   |   |\n",
      "+------------+\n",
      "+------------+\n",
      "|   |   |   |\n",
      "|   |   |   |\n",
      "|   |   |   |\n",
      "|   |   |   |\n",
      "+------------+\n"
     ]
    }
   ],
   "source": [
    "#EXERCICIO 03\n",
    "def cria_linhas(n_linha, n_coluna):\n",
    "    linha='+'\n",
    "    for x in range(n_coluna):\n",
    "        for y in range(n_linha):\n",
    "            linha += '-'\n",
    "    linha +='+'\n",
    "    print(linha)\n",
    "\n",
    "def cria_colunas(n_linha, n_coluna):\n",
    "    for x in range(n_coluna):\n",
    "        coluna = '|' \n",
    "        for y in range(n_linha):\n",
    "            coluna += ' ' * n_linha\n",
    "            coluna += '|'\n",
    "        print(coluna)\n",
    "\n",
    "def desenha_moldura(linha=1, coluna=1):\n",
    "    cria_linhas(linha, coluna)\n",
    "    cria_colunas(linha, coluna)\n",
    "    cria_linhas(linha, coluna)\n",
    "\n",
    "desenha_moldura(3,4)\n",
    "\n",
    "def replica_moldura(n, linha, coluna):\n",
    "    for i in range(n-1):\n",
    "        desenha_moldura(linha,coluna)\n",
    "\n",
    "replica_moldura(3,3,4)"
   ]
  }
 ],
 "metadata": {
  "kernelspec": {
   "display_name": "Python 3",
   "language": "python",
   "name": "python3"
  },
  "language_info": {
   "codemirror_mode": {
    "name": "ipython",
    "version": 3
   },
   "file_extension": ".py",
   "mimetype": "text/x-python",
   "name": "python",
   "nbconvert_exporter": "python",
   "pygments_lexer": "ipython3",
   "version": "3.8.5"
  }
 },
 "nbformat": 4,
 "nbformat_minor": 4
}

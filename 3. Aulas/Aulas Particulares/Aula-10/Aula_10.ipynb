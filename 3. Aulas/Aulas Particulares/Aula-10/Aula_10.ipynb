{
  "nbformat": 4,
  "nbformat_minor": 0,
  "metadata": {
    "colab": {
      "name": "Aula_10-André.ipynb",
      "provenance": []
    },
    "kernelspec": {
      "name": "python3",
      "display_name": "Python 3"
    },
    "language_info": {
      "name": "python"
    }
  },
  "cells": [
    {
      "cell_type": "markdown",
      "metadata": {
        "id": "q2Unmc7yr5d_"
      },
      "source": [
        "<h1>Tratamento de Erros e Exceções"
      ]
    },
    {
      "cell_type": "markdown",
      "metadata": {
        "id": "Wu6S-BGOsAdS"
      },
      "source": [
        "<h2>Erro e Exceção: qual a diferença?"
      ]
    },
    {
      "cell_type": "markdown",
      "metadata": {
        "id": "m_af3yBTvtEw"
      },
      "source": [
        "Em programação, chamamos de **erro** qualquer tipo de falha de codificação que impeça a execução correta do nosso algoritmo. Contudo, ao lidar com o tratamento dessas situações inesperadas, usamos tanto os termos **erro** quanto **exceção**. Qual é a diferença entre esses dos termos? "
      ]
    },
    {
      "cell_type": "markdown",
      "metadata": {
        "id": "ez8u5VbZ07R0"
      },
      "source": [
        "\n",
        "*Erros são situações com as quais NÃO conseguimos lidar durante a execução do algoritmo ou que sequer permitem que o nosso script rode.* \n",
        "\n",
        "Muitas vezes são usados como sinônimos de **erros sintáticos** ou **erros de parsing**, ou seja, um desrespeito às regras gramaticas da linguagem de proramação que confundem o interpretador/compilador. Contudo, também podem existir outros erros para além dos erros sintáticos **out of memory** (memória insuficiente), **recursion error** (erro de recursão), etc. \n",
        "\n",
        "Ver:https://www.datacamp.com/community/tutorials/exception-handling-python\n",
        "\n",
        "\n"
      ]
    },
    {
      "cell_type": "code",
      "metadata": {
        "colab": {
          "base_uri": "https://localhost:8080/",
          "height": 130
        },
        "id": "hKAtDmQzvqOI",
        "outputId": "3808fa51-10bf-4782-f652-36f7de2a60ac"
      },
      "source": [
        "#Erro de Sintaxe\n",
        "\n",
        "for x in range(10)\n",
        " print('Hello world')"
      ],
      "execution_count": null,
      "outputs": [
        {
          "output_type": "error",
          "ename": "SyntaxError",
          "evalue": "ignored",
          "traceback": [
            "\u001b[0;36m  File \u001b[0;32m\"<ipython-input-2-823f415cc101>\"\u001b[0;36m, line \u001b[0;32m3\u001b[0m\n\u001b[0;31m    for x in range(10)\u001b[0m\n\u001b[0m                      ^\u001b[0m\n\u001b[0;31mSyntaxError\u001b[0m\u001b[0;31m:\u001b[0m invalid syntax\n"
          ]
        }
      ]
    },
    {
      "cell_type": "code",
      "metadata": {
        "colab": {
          "base_uri": "https://localhost:8080/",
          "height": 130
        },
        "id": "36QMbnnx2zyZ",
        "outputId": "df1c21aa-36c2-4e2a-dcb7-94a4f57bbe12"
      },
      "source": [
        "#Erro de Identação (é uma subclasse do erro de sintáxe)\n",
        "\n",
        "for x in range(10):\n",
        "  print(\"Hello\")\n",
        "   print(\"World\")"
      ],
      "execution_count": null,
      "outputs": [
        {
          "output_type": "error",
          "ename": "IndentationError",
          "evalue": "ignored",
          "traceback": [
            "\u001b[0;36m  File \u001b[0;32m\"<ipython-input-3-b6517f758e8d>\"\u001b[0;36m, line \u001b[0;32m5\u001b[0m\n\u001b[0;31m    print(\"World\")\u001b[0m\n\u001b[0m    ^\u001b[0m\n\u001b[0;31mIndentationError\u001b[0m\u001b[0;31m:\u001b[0m unexpected indent\n"
          ]
        }
      ]
    },
    {
      "cell_type": "code",
      "metadata": {
        "colab": {
          "base_uri": "https://localhost:8080/",
          "height": 375
        },
        "id": "ZNGAM3OY3Dnk",
        "outputId": "d9da6af1-f7d1-4312-cdba-2c4be4cba22c"
      },
      "source": [
        "#Erro de recursão\n",
        "def recursion():\n",
        "    return recursion()\n",
        "\n",
        "recursion()"
      ],
      "execution_count": null,
      "outputs": [
        {
          "output_type": "error",
          "ename": "RecursionError",
          "evalue": "ignored",
          "traceback": [
            "\u001b[0;31m---------------------------------------------------------------------------\u001b[0m",
            "\u001b[0;31mRecursionError\u001b[0m                            Traceback (most recent call last)",
            "\u001b[0;32m<ipython-input-4-3f769ef79779>\u001b[0m in \u001b[0;36m<module>\u001b[0;34m()\u001b[0m\n\u001b[1;32m      3\u001b[0m     \u001b[0;32mreturn\u001b[0m \u001b[0mrecursion\u001b[0m\u001b[0;34m(\u001b[0m\u001b[0;34m)\u001b[0m\u001b[0;34m\u001b[0m\u001b[0;34m\u001b[0m\u001b[0m\n\u001b[1;32m      4\u001b[0m \u001b[0;34m\u001b[0m\u001b[0m\n\u001b[0;32m----> 5\u001b[0;31m \u001b[0mrecursion\u001b[0m\u001b[0;34m(\u001b[0m\u001b[0;34m)\u001b[0m\u001b[0;34m\u001b[0m\u001b[0;34m\u001b[0m\u001b[0m\n\u001b[0m",
            "\u001b[0;32m<ipython-input-4-3f769ef79779>\u001b[0m in \u001b[0;36mrecursion\u001b[0;34m()\u001b[0m\n\u001b[1;32m      1\u001b[0m \u001b[0;31m#Erro de estouro de pilha (Stack Overflow)\u001b[0m\u001b[0;34m\u001b[0m\u001b[0;34m\u001b[0m\u001b[0;34m\u001b[0m\u001b[0m\n\u001b[1;32m      2\u001b[0m \u001b[0;32mdef\u001b[0m \u001b[0mrecursion\u001b[0m\u001b[0;34m(\u001b[0m\u001b[0;34m)\u001b[0m\u001b[0;34m:\u001b[0m\u001b[0;34m\u001b[0m\u001b[0;34m\u001b[0m\u001b[0m\n\u001b[0;32m----> 3\u001b[0;31m     \u001b[0;32mreturn\u001b[0m \u001b[0mrecursion\u001b[0m\u001b[0;34m(\u001b[0m\u001b[0;34m)\u001b[0m\u001b[0;34m\u001b[0m\u001b[0;34m\u001b[0m\u001b[0m\n\u001b[0m\u001b[1;32m      4\u001b[0m \u001b[0;34m\u001b[0m\u001b[0m\n\u001b[1;32m      5\u001b[0m \u001b[0mrecursion\u001b[0m\u001b[0;34m(\u001b[0m\u001b[0;34m)\u001b[0m\u001b[0;34m\u001b[0m\u001b[0;34m\u001b[0m\u001b[0m\n",
            "... last 1 frames repeated, from the frame below ...\n",
            "\u001b[0;32m<ipython-input-4-3f769ef79779>\u001b[0m in \u001b[0;36mrecursion\u001b[0;34m()\u001b[0m\n\u001b[1;32m      1\u001b[0m \u001b[0;31m#Erro de estouro de pilha (Stack Overflow)\u001b[0m\u001b[0;34m\u001b[0m\u001b[0;34m\u001b[0m\u001b[0;34m\u001b[0m\u001b[0m\n\u001b[1;32m      2\u001b[0m \u001b[0;32mdef\u001b[0m \u001b[0mrecursion\u001b[0m\u001b[0;34m(\u001b[0m\u001b[0;34m)\u001b[0m\u001b[0;34m:\u001b[0m\u001b[0;34m\u001b[0m\u001b[0;34m\u001b[0m\u001b[0m\n\u001b[0;32m----> 3\u001b[0;31m     \u001b[0;32mreturn\u001b[0m \u001b[0mrecursion\u001b[0m\u001b[0;34m(\u001b[0m\u001b[0;34m)\u001b[0m\u001b[0;34m\u001b[0m\u001b[0;34m\u001b[0m\u001b[0m\n\u001b[0m\u001b[1;32m      4\u001b[0m \u001b[0;34m\u001b[0m\u001b[0m\n\u001b[1;32m      5\u001b[0m \u001b[0mrecursion\u001b[0m\u001b[0;34m(\u001b[0m\u001b[0;34m)\u001b[0m\u001b[0;34m\u001b[0m\u001b[0;34m\u001b[0m\u001b[0m\n",
            "\u001b[0;31mRecursionError\u001b[0m: maximum recursion depth exceeded"
          ]
        }
      ]
    },
    {
      "cell_type": "code",
      "metadata": {
        "id": "lq9JYpIArsH5"
      },
      "source": [
        "#Não vamos conseguir reproduzir um Out of Memory aqui, mas se ocorrer,\n",
        "#as causas mais comuns podem ser encontradas em: https://www.pythonpool.com/python-memory-error/"
      ],
      "execution_count": null,
      "outputs": []
    },
    {
      "cell_type": "markdown",
      "metadata": {
        "id": "uWwmrJAQ4I_p"
      },
      "source": [
        "*Já as exceções, são tipos de erro que ocorrem normalmente DURANTE a execução do programa, situações que nem sempre ocorrem para todos os casos. Assim, não despendemos linhas de código para tratar erros no nosso script, fazemos isso para tratar exceções.*\n",
        "\n",
        "Na documentação oficial (https://docs.python.org/3/library/exceptions.html), a diferença entre erro e exceção não é muito clara, já que dentro da classe exceção, quase todas as exceções recebem o nome de erro (ex. ZeroDivisionError, FileNotFoundError, etc.)\n",
        "\n",
        "Parece-se utilizar erro como sinônimo para o problema ocorrido e exceção para a forma que iremos tratar esse problema. Contudo, é legal tentar manter essa coerência teórica a partir das definições aqui vistas."
      ]
    },
    {
      "cell_type": "markdown",
      "metadata": {
        "id": "CQ80_ajP8mpP"
      },
      "source": [
        "<h2>Tratamento de Exceções"
      ]
    },
    {
      "cell_type": "markdown",
      "metadata": {
        "id": "_jnjPlIYAjf7"
      },
      "source": [
        "Vamos começar com um exemplo simples que considera várias possíveis exceções em uma divisão entre dois números"
      ]
    },
    {
      "cell_type": "code",
      "metadata": {
        "colab": {
          "base_uri": "https://localhost:8080/"
        },
        "id": "ZnAfaSueAi8y",
        "outputId": "c1f2baf8-dd79-4d78-96b8-39932fc9e8eb"
      },
      "source": [
        "def divide_dois_numeros():\n",
        "\n",
        "  #No \"try\" eu coloco todas as linhas de código que eu acho que pode dar problema\n",
        "\n",
        "  try:\n",
        "    a = int(input(\"Digite o nominador:\"))\n",
        "    b = int(input(\"Digite o denominador:\"))\n",
        "    r = a/b\n",
        "\n",
        "  #No \"except\" eu coloco o que eu faço se alguma dessas linhas de código der problema\n",
        "  except ZeroDivisionError:\n",
        "    print(\"Você tentou dividir o valor por zero! Essa divisão não existe.\")\n",
        "  except ValueError:\n",
        "    print(\"Você digitou um número inválido. Não posso efetuar a divisão\")\n",
        "  \n",
        "  #No \"else\" eu coloco o que eu faço, cado dê tudo certo\n",
        "  else:\n",
        "    print(\"O resultado da divisão é:\", r)\n",
        "  \n",
        "  #No finally, eu coloco o que eu faço independentemente se deu certo ou errado\n",
        "  finally:\n",
        "    print(\"Obrigado por usar o programa!\")\n",
        "\n",
        "divide_dois_numeros()"
      ],
      "execution_count": null,
      "outputs": [
        {
          "output_type": "stream",
          "text": [
            "Digite o nominador:abacaxi\n",
            "Você digitou um número inválido. Não posso efetuar a divisão\n",
            "Obrigado por usar o programa =]\n"
          ],
          "name": "stdout"
        }
      ]
    },
    {
      "cell_type": "markdown",
      "metadata": {
        "id": "5kftMi0NChNb"
      },
      "source": [
        "Agora vamos lidar com uma exceção da WEB usando a biblioteca **requests**:\n"
      ]
    },
    {
      "cell_type": "code",
      "metadata": {
        "colab": {
          "base_uri": "https://localhost:8080/"
        },
        "id": "b_kloP1e3mNY",
        "outputId": "5f1ee8a0-ce2a-4d10-c34e-c42441eb38b3"
      },
      "source": [
        "import urllib.request as request\n",
        "from bs4 import BeautifulSoup as bs\n",
        "\n",
        "try:\n",
        "    site = request.urlopen('http://www.pudim.com.br')\n",
        "\n",
        "#veja que aqui estou usando o except genérico\n",
        "except:\n",
        "    print(\"Não consegui acessar o site pudim!\")\n",
        "#obs. para testar o except desligar o wi-fi e reconectar.\n",
        "\n",
        "else:\n",
        "    print(\"Site pudim acessado!\")"
      ],
      "execution_count": null,
      "outputs": [
        {
          "output_type": "stream",
          "text": [
            "Site pudim acessado!\n",
            "b'<html>\\n<html xmlns=\"http://www.w3.org/1999/xhtml\">\\n<head>\\n    <title>Pudim</title>\\n    <link rel=\"stylesheet\" href=\"estilo.css\">\\n</head>\\n<body>\\n<div>\\n    <div class=\"container\">\\n        <div class=\"image\">\\n            <img src=\"pudim.jpg\" alt=\"\">\\n        </div>\\n        <div class=\"email\">\\n            <a href=\"mailto:pudim@pudim.com.br\">pudim@pudim.com.br</a>\\n        </div>\\n    </div>\\n</div>\\n<script>\\n    (function(i,s,o,g,r,a,m){i[\\'GoogleAnalyticsObject\\']=r;i[r]=i[r]||function(){\\n                (i[r].q=i[r].q||[]).push(arguments)},i[r].l=1*new Date();a=s.createElement(o),\\n            m=s.getElementsByTagName(o)[0];a.async=1;a.src=g;m.parentNode.insertBefore(a,m)\\n    })(window,document,\\'script\\',\\'//www.google-analytics.com/analytics.js\\',\\'ga\\');\\n\\n    ga(\\'create\\', \\'UA-28861757-1\\', \\'auto\\');\\n    ga(\\'send\\', \\'pageview\\');\\n\\n</script>\\n</body>\\n</html>\\n'\n"
          ],
          "name": "stdout"
        }
      ]
    },
    {
      "cell_type": "code",
      "metadata": {
        "colab": {
          "base_uri": "https://localhost:8080/"
        },
        "id": "t5-01FudETsM",
        "outputId": "f1dd7cf6-b9c1-4196-db0b-85dfd5248d39"
      },
      "source": [
        "#Se quisermos dar uma olhada no HTML do site\n",
        "html = site.read()\n",
        "soup = bs(html)\n",
        "pretty_html = soup.prettify()\n",
        "print(html)"
      ],
      "execution_count": null,
      "outputs": [
        {
          "output_type": "stream",
          "text": [
            "b'<html>\\n<html xmlns=\"http://www.w3.org/1999/xhtml\">\\n<head>\\n    <title>Pudim</title>\\n    <link rel=\"stylesheet\" href=\"estilo.css\">\\n</head>\\n<body>\\n<div>\\n    <div class=\"container\">\\n        <div class=\"image\">\\n            <img src=\"pudim.jpg\" alt=\"\">\\n        </div>\\n        <div class=\"email\">\\n            <a href=\"mailto:pudim@pudim.com.br\">pudim@pudim.com.br</a>\\n        </div>\\n    </div>\\n</div>\\n<script>\\n    (function(i,s,o,g,r,a,m){i[\\'GoogleAnalyticsObject\\']=r;i[r]=i[r]||function(){\\n                (i[r].q=i[r].q||[]).push(arguments)},i[r].l=1*new Date();a=s.createElement(o),\\n            m=s.getElementsByTagName(o)[0];a.async=1;a.src=g;m.parentNode.insertBefore(a,m)\\n    })(window,document,\\'script\\',\\'//www.google-analytics.com/analytics.js\\',\\'ga\\');\\n\\n    ga(\\'create\\', \\'UA-28861757-1\\', \\'auto\\');\\n    ga(\\'send\\', \\'pageview\\');\\n\\n</script>\\n</body>\\n</html>\\n'\n"
          ],
          "name": "stdout"
        }
      ]
    },
    {
      "cell_type": "markdown",
      "metadata": {
        "id": "rvYvsEL5E38d"
      },
      "source": [
        "E, por fim, tratamento de exceção com arquivos:"
      ]
    },
    {
      "cell_type": "code",
      "metadata": {
        "colab": {
          "base_uri": "https://localhost:8080/"
        },
        "id": "ZV5eJcnpE2Y5",
        "outputId": "b390cc20-68f1-4544-c8f3-dc59f13b1783"
      },
      "source": [
        "try:\n",
        "  fin = open(\"bad_file\")\n",
        "except FileNotFoundError:\n",
        "  print(\"Não foi possível localizar o arquivo\")\n",
        "else:\n",
        "  print(\"Arquivo aberto com sucesso\")"
      ],
      "execution_count": null,
      "outputs": [
        {
          "output_type": "stream",
          "text": [
            "Não foi possível localizar o arquivo\n"
          ],
          "name": "stdout"
        }
      ]
    },
    {
      "cell_type": "markdown",
      "metadata": {
        "id": "XteTrfCnGfNb"
      },
      "source": [
        "<h2>Criando nossas Próprias Exceções"
      ]
    },
    {
      "cell_type": "markdown",
      "metadata": {
        "id": "81AYC4GAHIO0"
      },
      "source": [
        "Caso queiramos criar nossas próprias exceções, temos que usar um pouquinho de Orientação a Objeto. Sempre que formos criar nossas exceções, devemos fazer isso derivando da classe nativa Exceptions. Para entender como isso funciona, vejo o código a seguir:"
      ]
    },
    {
      "cell_type": "code",
      "metadata": {
        "colab": {
          "base_uri": "https://localhost:8080/"
        },
        "id": "Fa4P1C80Gc5Q",
        "outputId": "f92e466b-1706-4ed7-fb29-796cf6a2fdd1"
      },
      "source": [
        "class Erro(Exception):\n",
        "    \"Criando uma classe nova que herda as propriedades de Exception\"\n",
        "    pass\n",
        "\n",
        "class ValueTooSmallError(Erro):\n",
        "    \"Subclasse de erro quando o valor é muito pequeno\"\n",
        "    pass\n",
        "\n",
        "class ValueTooLargeError(Erro):\n",
        "    \"Subclasse de erro quando o valor é muito grande\"\n",
        "    pass\n",
        "\n",
        "while(True):\n",
        "    try:\n",
        "        num = int(input(\"Entre com um número entre 50 e 100\"))\n",
        "        if num < 50:\n",
        "            raise ValueTooSmallError\n",
        "        elif num > 100:\n",
        "            raise ValueTooLargeError\n",
        "        break\n",
        "    \n",
        "    except ValueTooSmallError:\n",
        "            print(\"O valor está abaixo de 50... Tente de novo\")\n",
        "\n",
        "    except ValueTooLargeError:\n",
        "            print(\"O valor está acima de 100... Tente de novo\")\n",
        "\n",
        "print(\"Boa! Valor dentro do intervalo\")"
      ],
      "execution_count": null,
      "outputs": [
        {
          "output_type": "stream",
          "text": [
            "Entre com um número entre 50 e 10020\n",
            "O valor está abaixo de 50... Tente de novo\n",
            "Entre com um número entre 50 e 100 20\n",
            "O valor está abaixo de 50... Tente de novo\n",
            "Entre com um número entre 50 e 100110\n",
            "O valor está acima de 100... Tente de novo\n",
            "Entre com um número entre 50 e 10055\n",
            "Boa! Valor dentro do intervalo\n"
          ],
          "name": "stdout"
        }
      ]
    },
    {
      "cell_type": "markdown",
      "metadata": {
        "id": "OAuomJI0KLYB"
      },
      "source": [
        "**Obs.** Warnings também são tipos de Exception (subclasses). Ver: https://docs.python.org/3/library/warnings.html"
      ]
    },
    {
      "cell_type": "markdown",
      "metadata": {
        "id": "X0AaMKBXKZOQ"
      },
      "source": [
        "<h2>Exercícios:"
      ]
    },
    {
      "cell_type": "markdown",
      "metadata": {
        "id": "iwLzVWRNKY2T"
      },
      "source": [
        "1. O código abaixo que descobre a quantidade total de likes em um blog está bugado. Use tratamento de erros e exceções para torná-lo executável:"
      ]
    },
    {
      "cell_type": "code",
      "metadata": {
        "colab": {
          "base_uri": "https://localhost:8080/",
          "height": 198
        },
        "id": "v05OuHr8KNJj",
        "outputId": "2806690f-0bcf-4cd9-b3b1-ddb8346ca04e"
      },
      "source": [
        "blog_posts = [{'Photos': 3, 'Likes': 21, 'Comments': 2}, {'Likes': 13, 'Comments': 2, 'Shares': 1}, {'Photos': 5, 'Likes': 33, 'Comments': 8, 'Shares': 3}, {'Comments': 4, 'Shares': 2}, {'Photos': 8, 'Comments': 1, 'Shares': 1}, {'Photos': 3, 'Likes': 19, 'Comments': 3}]\n",
        "\n",
        "total_likes = 0\n",
        "\n",
        "for post in blog_posts:\n",
        "    total_likes = total_likes + post['Likes']"
      ],
      "execution_count": null,
      "outputs": [
        {
          "output_type": "error",
          "ename": "KeyError",
          "evalue": "ignored",
          "traceback": [
            "\u001b[0;31m---------------------------------------------------------------------------\u001b[0m",
            "\u001b[0;31mKeyError\u001b[0m                                  Traceback (most recent call last)",
            "\u001b[0;32m<ipython-input-19-afc0fefccace>\u001b[0m in \u001b[0;36m<module>\u001b[0;34m()\u001b[0m\n\u001b[1;32m      4\u001b[0m \u001b[0;34m\u001b[0m\u001b[0m\n\u001b[1;32m      5\u001b[0m \u001b[0;32mfor\u001b[0m \u001b[0mpost\u001b[0m \u001b[0;32min\u001b[0m \u001b[0mblog_posts\u001b[0m\u001b[0;34m:\u001b[0m\u001b[0;34m\u001b[0m\u001b[0;34m\u001b[0m\u001b[0m\n\u001b[0;32m----> 6\u001b[0;31m     \u001b[0mtotal_likes\u001b[0m \u001b[0;34m=\u001b[0m \u001b[0mtotal_likes\u001b[0m \u001b[0;34m+\u001b[0m \u001b[0mpost\u001b[0m\u001b[0;34m[\u001b[0m\u001b[0;34m'Likes'\u001b[0m\u001b[0;34m]\u001b[0m\u001b[0;34m\u001b[0m\u001b[0;34m\u001b[0m\u001b[0m\n\u001b[0m",
            "\u001b[0;31mKeyError\u001b[0m: 'Likes'"
          ]
        }
      ]
    },
    {
      "cell_type": "markdown",
      "metadata": {
        "id": "HQNtTVAULXeM"
      },
      "source": [
        "2. O Código abaixo retorna a quinta letra de comidas diferentes. Torne-o executável. **Dica**: se o nome da comida tiver menos de 5 palavras, retorne um valor em branco."
      ]
    },
    {
      "cell_type": "code",
      "metadata": {
        "id": "m68YY0N7KKRy"
      },
      "source": [
        "food = [\"chocolate\", \"chicken\", \"corn\", \"sandwich\", \"soup\", \"potatoes\", \"beef\", \"lox\", \"lemonade\"]\n",
        "fifth = []\n",
        "\n",
        "for x in food:\n",
        "    fifth.append(x[4])"
      ],
      "execution_count": null,
      "outputs": []
    },
    {
      "cell_type": "markdown",
      "metadata": {
        "id": "JYTeCqNSMcYS"
      },
      "source": [
        "3. Procurar no Leetcode exercícios de tratamento de Erros e Exceções.\n",
        "Sugestão: https://leetcode.com/explore/challenge/card/august-leetcoding-challenge-2021/616/week-4-august-22nd-august-28th/3921/"
      ]
    }
  ]
}
{
  "nbformat": 4,
  "nbformat_minor": 0,
  "metadata": {
    "colab": {
      "name": "Aula_8-André.ipynb",
      "provenance": [],
      "collapsed_sections": []
    },
    "kernelspec": {
      "name": "python3",
      "display_name": "Python 3"
    },
    "language_info": {
      "name": "python"
    }
  },
  "cells": [
    {
      "cell_type": "markdown",
      "metadata": {
        "id": "wL7nSgJp8nBA"
      },
      "source": [
        "<h1> Aula 8: Tuplas, Dicionários e Sets"
      ]
    },
    {
      "cell_type": "markdown",
      "metadata": {
        "id": "xZRpTP9bP7XX"
      },
      "source": [
        "<h2>Tuplas</h2>"
      ]
    },
    {
      "cell_type": "markdown",
      "metadata": {
        "id": "KBAQRcKNQAnw"
      },
      "source": [
        "Tuplas são **listas imutáveis**. "
      ]
    },
    {
      "cell_type": "code",
      "metadata": {
        "id": "tX0cv-sDP6yy",
        "colab": {
          "base_uri": "https://localhost:8080/"
        },
        "outputId": "6010154d-9b72-442b-c75e-22c978cedba6"
      },
      "source": [
        "#Podemos fazer uma atribuição incial, acessos...\n",
        "t = ('a','b','c','d','e')\n",
        "print(t[0])\n",
        "print(t[0:2])"
      ],
      "execution_count": null,
      "outputs": [
        {
          "output_type": "stream",
          "text": [
            "a\n",
            "('a', 'b')\n"
          ],
          "name": "stdout"
        }
      ]
    },
    {
      "cell_type": "code",
      "metadata": {
        "id": "YLY7JgSqhS3K"
      },
      "source": [
        "#E é basicamente isso. \n",
        "\n",
        "#Não pode:\n",
        "t = t + 'f'\n",
        "t[2] = 'x'\n",
        "t.append(f)"
      ],
      "execution_count": null,
      "outputs": []
    },
    {
      "cell_type": "markdown",
      "metadata": {
        "id": "7aVE7egzhyKV"
      },
      "source": [
        "A **atribuição de tuplas** é uma das coisas mais elegantes do Python fluente. Exemplo:"
      ]
    },
    {
      "cell_type": "code",
      "metadata": {
        "id": "sV_5Ip5SP57P",
        "colab": {
          "base_uri": "https://localhost:8080/"
        },
        "outputId": "1b243bee-1409-44af-92f7-4ee2f7196ecd"
      },
      "source": [
        "import random as rd\n",
        "\n",
        "#dada duas variáveis aleatórias\n",
        "a = rd.randint(1,10)\n",
        "b = rd.randint(1,10)\n",
        "print(a,b)\n",
        "\n",
        "#para inverter os seus valores, ao invés de fazer isso:\n",
        "#temp = b\n",
        "#b = a\n",
        "#a = temp\n",
        "\n",
        "#declaramos uma tupla de variáveis na esquerda, seguida das expressões que atribuirão valores a essas variáveis na direita.\n",
        "(a,b) = b,a\n",
        "print(a,b)\n",
        "\n",
        "#outra maneira ainda mais elegante de escrever é\n",
        "a,b = b,a"
      ],
      "execution_count": null,
      "outputs": [
        {
          "output_type": "stream",
          "text": [
            "3 5\n",
            "5 3\n"
          ],
          "name": "stdout"
        }
      ]
    },
    {
      "cell_type": "code",
      "metadata": {
        "id": "YeM6e9iljYYB"
      },
      "source": [
        "#Outro exemplo\n",
        "\n",
        "#Isso:\n",
        "a = 2\n",
        "b = 3\n",
        "c = 'feio'\n",
        "\n",
        "#Poderia ser isso:\n",
        "a, b, c = 2,3, 'feio'"
      ],
      "execution_count": null,
      "outputs": []
    },
    {
      "cell_type": "markdown",
      "metadata": {
        "id": "wJBPxSV1jt4d"
      },
      "source": [
        "**Exercício de fixação:** Utilize atribuição de tuplas aliada ao método .split() para separar user_name e domínio de e-mail em uma string: \"username@dominio.com\""
      ]
    },
    {
      "cell_type": "markdown",
      "metadata": {
        "id": "1JpYgY0Pk1ub"
      },
      "source": [
        "No tratamento de tuplas, o asterisco (\\*) tem uma função especial. No cabeçalho de uma função, ele é **gather**. Ou seja, concatena todos os valores que passarmos na chamada de uma função em uma única tupla."
      ]
    },
    {
      "cell_type": "code",
      "metadata": {
        "colab": {
          "base_uri": "https://localhost:8080/"
        },
        "id": "_9YLGHN8keqw",
        "outputId": "0ae75014-de64-4c57-d009-3d3aced11a89"
      },
      "source": [
        "def print_all(*todos_os_args):\n",
        "  print(todos_os_args)\n",
        "\n",
        "print_all('Estou', 'passando', 'várias', 'entradas', 'Era', 'pra', 'dar', 'erro', 'sem', 'o', 'asterisco')"
      ],
      "execution_count": null,
      "outputs": [
        {
          "output_type": "stream",
          "text": [
            "('Estou', 'passando', 'várias', 'entradas', 'Era', 'pra', 'dar', 'erro', 'sem', 'o', 'asterisco')\n"
          ],
          "name": "stdout"
        }
      ]
    },
    {
      "cell_type": "markdown",
      "metadata": {
        "id": "Vmwg5rVXl-Rq"
      },
      "source": [
        "Na chamada de uma função, ele é **scatter**. Ou seja, transforma uma tupla em vários elementos."
      ]
    },
    {
      "cell_type": "code",
      "metadata": {
        "id": "314NV6q_l65Y"
      },
      "source": [
        "def divide_dois_numeros(a,b):\n",
        "  return a/b\n",
        "\n",
        "numeros = tuple()\n",
        "numeros = (4,2)"
      ],
      "execution_count": null,
      "outputs": []
    },
    {
      "cell_type": "code",
      "metadata": {
        "colab": {
          "base_uri": "https://localhost:8080/",
          "height": 182
        },
        "id": "fHO7iZ57mn0v",
        "outputId": "18b6bbc3-8ee4-46d6-d8db-385eaa49a7ff"
      },
      "source": [
        "#Isso aqui dá erro\n",
        "divide_dois_numeros(numeros)"
      ],
      "execution_count": null,
      "outputs": [
        {
          "output_type": "error",
          "ename": "TypeError",
          "evalue": "ignored",
          "traceback": [
            "\u001b[0;31m---------------------------------------------------------------------------\u001b[0m",
            "\u001b[0;31mTypeError\u001b[0m                                 Traceback (most recent call last)",
            "\u001b[0;32m<ipython-input-10-044d7508bdb2>\u001b[0m in \u001b[0;36m<module>\u001b[0;34m()\u001b[0m\n\u001b[1;32m      1\u001b[0m \u001b[0;31m#Isso aqui dá erro\u001b[0m\u001b[0;34m\u001b[0m\u001b[0;34m\u001b[0m\u001b[0;34m\u001b[0m\u001b[0m\n\u001b[0;32m----> 2\u001b[0;31m \u001b[0mdivide_dois_numeros\u001b[0m\u001b[0;34m(\u001b[0m\u001b[0mnumeros\u001b[0m\u001b[0;34m)\u001b[0m\u001b[0;34m\u001b[0m\u001b[0;34m\u001b[0m\u001b[0m\n\u001b[0m",
            "\u001b[0;31mTypeError\u001b[0m: divide_dois_numeros() missing 1 required positional argument: 'b'"
          ]
        }
      ]
    },
    {
      "cell_type": "code",
      "metadata": {
        "colab": {
          "base_uri": "https://localhost:8080/"
        },
        "id": "aY8RVyZXmrgi",
        "outputId": "dbe66db2-614d-4294-8fad-7ce920a46e98"
      },
      "source": [
        "#Mas isso não\n",
        "divide_dois_numeros(*numeros)"
      ],
      "execution_count": null,
      "outputs": [
        {
          "output_type": "execute_result",
          "data": {
            "text/plain": [
              "2.0"
            ]
          },
          "metadata": {
            "tags": []
          },
          "execution_count": 11
        }
      ]
    },
    {
      "cell_type": "markdown",
      "metadata": {
        "id": "Sjp3To2-nklb"
      },
      "source": [
        "Antecipando o próximo assunto, podemos criar dicionários a partir de tuplas."
      ]
    },
    {
      "cell_type": "code",
      "metadata": {
        "colab": {
          "base_uri": "https://localhost:8080/"
        },
        "id": "dGQCr2McoCai",
        "outputId": "7be96838-7d5f-49c7-8f2d-aa1914d999b3"
      },
      "source": [
        "lista_de_tuplas = [(\"Marcos\",10), (\"Pedro\", 7), (\"João\", 10)]\n",
        "dicionario = dict(lista_de_tuplas)\n",
        "dicionario"
      ],
      "execution_count": null,
      "outputs": [
        {
          "output_type": "execute_result",
          "data": {
            "text/plain": [
              "{'João': 10, 'Marcos': 10, 'Pedro': 7}"
            ]
          },
          "metadata": {
            "tags": []
          },
          "execution_count": 13
        }
      ]
    },
    {
      "cell_type": "markdown",
      "metadata": {
        "id": "FHcBNa6zQNHy"
      },
      "source": [
        "<h2>Dicionários</h2>"
      ]
    },
    {
      "cell_type": "markdown",
      "metadata": {
        "id": "fckCfCme9AYi"
      },
      "source": [
        "Os **dicionários** parecem-se com listas, mas são mais gerais. \n",
        "\n",
        "Na lista, obrigatoriamente, os índices tem que ser do tipo *inteiro*. No dicionário, eles podem ser de (quase) qualquer tipo. \n",
        "\n",
        "Os índices de um dicionário são chamados de **chaves**. Cada chave se associa a um único **valor** por meio de um **mapeamento** de índices. Chamamos o resultado dessa associação de **par chave-valor** ou de **item**. \n",
        "\n",
        "Vamos a alguns exemplos:\n"
      ]
    },
    {
      "cell_type": "code",
      "metadata": {
        "colab": {
          "base_uri": "https://localhost:8080/"
        },
        "id": "WDPeGkaN8l5n",
        "outputId": "5530611f-7ac2-4f2b-c083-8e35dfd7c74b"
      },
      "source": [
        "#criando um dicionário vazio que associará palavras em Português com palavras em Inglês\n",
        "eng2pt = dict()\n",
        "eng2pt"
      ],
      "execution_count": null,
      "outputs": [
        {
          "output_type": "execute_result",
          "data": {
            "text/plain": [
              "{}"
            ]
          },
          "metadata": {
            "tags": []
          },
          "execution_count": 1
        }
      ]
    },
    {
      "cell_type": "code",
      "metadata": {
        "colab": {
          "base_uri": "https://localhost:8080/"
        },
        "id": "AK626vDz-6_I",
        "outputId": "2eb7d697-754c-469c-a98e-807af1106e51"
      },
      "source": [
        "#alimentando o dicionário com pares chave-valor\n",
        "eng2pt['one'] = 'um'\n",
        "eng2pt['two'] = 'dois'\n",
        "eng2pt['three'] = 'três'\n",
        "eng2pt"
      ],
      "execution_count": null,
      "outputs": [
        {
          "output_type": "execute_result",
          "data": {
            "text/plain": [
              "{'one': 'um', 'three': 'três', 'two': 'dois'}"
            ]
          },
          "metadata": {
            "tags": []
          },
          "execution_count": 3
        }
      ]
    },
    {
      "cell_type": "markdown",
      "metadata": {
        "id": "l_l6DRea_RP8"
      },
      "source": [
        "Veja que ele organiza por ordem alfabética"
      ]
    },
    {
      "cell_type": "code",
      "metadata": {
        "colab": {
          "base_uri": "https://localhost:8080/",
          "height": 35
        },
        "id": "bTEEXwyo_bAH",
        "outputId": "33c88b99-e68a-4674-d770-83d7ab5e9f23"
      },
      "source": [
        "#acessando uma chave para recuperar o valor\n",
        "eng2pt['two']"
      ],
      "execution_count": null,
      "outputs": [
        {
          "output_type": "execute_result",
          "data": {
            "application/vnd.google.colaboratory.intrinsic+json": {
              "type": "string"
            },
            "text/plain": [
              "'dois'"
            ]
          },
          "metadata": {
            "tags": []
          },
          "execution_count": 4
        }
      ]
    },
    {
      "cell_type": "markdown",
      "metadata": {
        "id": "X0j8lxqfCiZO"
      },
      "source": [
        "**Curiosidade interessante:** Na operação de acesso de uma lista, percorremos sequencialmente todos os valores até encontrar o desejado. A operação de acesso de um dicionário usa o princípio de hash tables, que é muito mais rápido e eficiente, mas possui algumas restrições. Para mais de otimização de algoritmos, buscar o termo Big O' no Google."
      ]
    },
    {
      "cell_type": "code",
      "metadata": {
        "colab": {
          "base_uri": "https://localhost:8080/",
          "height": 182
        },
        "id": "_FtLKT0u_nWU",
        "outputId": "ad18fa02-77c7-478a-bf7a-0d7c3eaaeeed"
      },
      "source": [
        "#o inverso não funciona\n",
        "eng2pt['dois']"
      ],
      "execution_count": null,
      "outputs": [
        {
          "output_type": "error",
          "ename": "KeyError",
          "evalue": "ignored",
          "traceback": [
            "\u001b[0;31m---------------------------------------------------------------------------\u001b[0m",
            "\u001b[0;31mKeyError\u001b[0m                                  Traceback (most recent call last)",
            "\u001b[0;32m<ipython-input-5-434c93acb3b0>\u001b[0m in \u001b[0;36m<module>\u001b[0;34m()\u001b[0m\n\u001b[1;32m      1\u001b[0m \u001b[0;31m#o inverso não funciona\u001b[0m\u001b[0;34m\u001b[0m\u001b[0;34m\u001b[0m\u001b[0;34m\u001b[0m\u001b[0m\n\u001b[0;32m----> 2\u001b[0;31m \u001b[0meng2pt\u001b[0m\u001b[0;34m[\u001b[0m\u001b[0;34m'dois'\u001b[0m\u001b[0;34m]\u001b[0m\u001b[0;34m\u001b[0m\u001b[0;34m\u001b[0m\u001b[0m\n\u001b[0m",
            "\u001b[0;31mKeyError\u001b[0m: 'dois'"
          ]
        }
      ]
    },
    {
      "cell_type": "code",
      "metadata": {
        "colab": {
          "base_uri": "https://localhost:8080/"
        },
        "id": "YeWl8ljkAGGv",
        "outputId": "63db5208-96c5-493f-c892-0379d0fa6f67"
      },
      "source": [
        "#operação in para verificar se há uma chave específica no dicionário\n",
        "'two' in eng2pt"
      ],
      "execution_count": null,
      "outputs": [
        {
          "output_type": "execute_result",
          "data": {
            "text/plain": [
              "True"
            ]
          },
          "metadata": {
            "tags": []
          },
          "execution_count": 6
        }
      ]
    },
    {
      "cell_type": "code",
      "metadata": {
        "colab": {
          "base_uri": "https://localhost:8080/"
        },
        "id": "xebihDsmARf3",
        "outputId": "d031d91b-fda9-42f8-faef-8c071492ae0e"
      },
      "source": [
        "#o inverso também não funciona\n",
        "'dois' in 'eng2pt'"
      ],
      "execution_count": null,
      "outputs": [
        {
          "output_type": "execute_result",
          "data": {
            "text/plain": [
              "False"
            ]
          },
          "metadata": {
            "tags": []
          },
          "execution_count": 7
        }
      ]
    },
    {
      "cell_type": "markdown",
      "metadata": {
        "id": "u6AmDyz0BTcE"
      },
      "source": [
        "E se quisséssemos buscar palavras em Português e não em Inglês? \n",
        "Precisariamos criar uma lista com os valores."
      ]
    },
    {
      "cell_type": "code",
      "metadata": {
        "colab": {
          "base_uri": "https://localhost:8080/"
        },
        "id": "SZ5Ki77qC2DG",
        "outputId": "d5ad7018-5357-415f-c35b-014639b6a49f"
      },
      "source": [
        "pt_words = eng2pt.values()\n",
        "\"dois\" in pt_words"
      ],
      "execution_count": null,
      "outputs": [
        {
          "output_type": "execute_result",
          "data": {
            "text/plain": [
              "True"
            ]
          },
          "metadata": {
            "tags": []
          },
          "execution_count": 12
        }
      ]
    },
    {
      "cell_type": "markdown",
      "metadata": {
        "id": "-PsFBXZ2DHNZ"
      },
      "source": [
        "Ou um novo dicionário invertido. Isso implicaria:"
      ]
    },
    {
      "cell_type": "code",
      "metadata": {
        "colab": {
          "base_uri": "https://localhost:8080/"
        },
        "id": "FBXGqxZO_uPX",
        "outputId": "fd8f1d38-4ea3-4c1a-b59c-d1adc595b3d5"
      },
      "source": [
        "#1. criar uma lista das chaves\n",
        "en_words = eng2pt.keys()\n",
        "print(en_words)\n",
        "\n",
        "#2. criar uma lista dos valores\n",
        "pt_words = eng2pt.values()\n",
        "print(pt_words)\n",
        "\n",
        "#3. Usar zip para juntar em nova ordem as listas\n",
        "new_items = zip(pt_words,en_words)\n",
        "print(new_items)\n",
        "new_dict = dict(new_items)\n",
        "print(new_dict)"
      ],
      "execution_count": null,
      "outputs": [
        {
          "output_type": "stream",
          "text": [
            "dict_keys(['one', 'two', 'three'])\n",
            "dict_values(['um', 'dois', 'três'])\n",
            "<zip object at 0x7f9e9f44b780>\n",
            "{'um': 'one', 'dois': 'two', 'três': 'three'}\n"
          ],
          "name": "stdout"
        }
      ]
    },
    {
      "cell_type": "code",
      "metadata": {
        "colab": {
          "base_uri": "https://localhost:8080/"
        },
        "id": "cXYGHkE7B5Oo",
        "outputId": "68b2e2b5-f8e7-4656-9d78-87f733b1ea16"
      },
      "source": [
        "#outra maneira seria usar dict comprehension para inverter\n",
        "pt2eng = {v:k for k,v in eng2pt.items()}\n",
        "pt2eng"
      ],
      "execution_count": null,
      "outputs": [
        {
          "output_type": "execute_result",
          "data": {
            "text/plain": [
              "{'dois': 'two', 'três': 'three', 'um': 'one'}"
            ]
          },
          "metadata": {
            "tags": []
          },
          "execution_count": 11
        }
      ]
    },
    {
      "cell_type": "markdown",
      "metadata": {
        "id": "6PZ1xdnfJPoC"
      },
      "source": [
        "O único problema de inverter dicionários, é que podemos perder informações se tivermos valores repetidos nas chaves.  Veja:\n"
      ]
    },
    {
      "cell_type": "code",
      "metadata": {
        "colab": {
          "base_uri": "https://localhost:8080/"
        },
        "id": "AKLv_URPJ8kg",
        "outputId": "5e243ea5-d64e-48b8-bb50-f769d64ac461"
      },
      "source": [
        "dic_aluno_notas = dict()\n",
        "\n",
        "dic_aluno_notas['Roberto'] = 10\n",
        "dic_aluno_notas['Clarissa'] = 8\n",
        "dic_aluno_notas['Andre'] = 10\n",
        "dic_aluno_notas['Gustavo'] = 7\n",
        "\n",
        "dic_aluno_notas"
      ],
      "execution_count": null,
      "outputs": [
        {
          "output_type": "execute_result",
          "data": {
            "text/plain": [
              "{'Andre': 10, 'Clarissa': 8, 'Gustavo': 7, 'Roberto': 10}"
            ]
          },
          "metadata": {
            "tags": []
          },
          "execution_count": 14
        }
      ]
    },
    {
      "cell_type": "code",
      "metadata": {
        "colab": {
          "base_uri": "https://localhost:8080/"
        },
        "id": "rpeX4KizDyY1",
        "outputId": "1d4dd673-ca36-4a3f-ce3e-106e44b57dc8"
      },
      "source": [
        "dic_notas_aluno = {v:k for k,v in dic_aluno_notas.items()}\n",
        "dic_notas_aluno"
      ],
      "execution_count": null,
      "outputs": [
        {
          "output_type": "execute_result",
          "data": {
            "text/plain": [
              "{7: 'Gustavo', 8: 'Clarissa', 10: 'Andre'}"
            ]
          },
          "metadata": {
            "tags": []
          },
          "execution_count": 16
        }
      ]
    },
    {
      "cell_type": "markdown",
      "metadata": {
        "id": "n8iEWivTKiS9"
      },
      "source": [
        "Aonde foi parar Roberto?"
      ]
    },
    {
      "cell_type": "markdown",
      "metadata": {
        "id": "R4lPTkYdCOnv"
      },
      "source": [
        "<h3>Como validar uma chave sem risco de erro?</h3>"
      ]
    },
    {
      "cell_type": "markdown",
      "metadata": {
        "id": "cqDsc7b4Cinu"
      },
      "source": [
        "Para validar uma chave em um dicionário, podemos simplesmente buscar por ela. Mas caso ela não exista, o programa apresentará erro e parará de funcionar. Veja:"
      ]
    },
    {
      "cell_type": "code",
      "metadata": {
        "colab": {
          "base_uri": "https://localhost:8080/",
          "height": 182
        },
        "id": "on3oB2WkCOMH",
        "outputId": "ff45251a-1ae5-4d6c-c38f-fe5930efda56"
      },
      "source": [
        "dic_artistas = {'Kurt Cobain': 10000000, 'Axel Rose': 250000000, 'Neil Peart': 500000000}\n",
        "dic_artistas['Ozzy']"
      ],
      "execution_count": 2,
      "outputs": [
        {
          "output_type": "error",
          "ename": "KeyError",
          "evalue": "ignored",
          "traceback": [
            "\u001b[0;31m---------------------------------------------------------------------------\u001b[0m",
            "\u001b[0;31mKeyError\u001b[0m                                  Traceback (most recent call last)",
            "\u001b[0;32m<ipython-input-2-a432cf805421>\u001b[0m in \u001b[0;36m<module>\u001b[0;34m()\u001b[0m\n\u001b[1;32m      1\u001b[0m \u001b[0mdic_artistas\u001b[0m \u001b[0;34m=\u001b[0m \u001b[0;34m{\u001b[0m\u001b[0;34m'Kurt Cobain'\u001b[0m\u001b[0;34m:\u001b[0m \u001b[0;36m10000000\u001b[0m\u001b[0;34m,\u001b[0m \u001b[0;34m'Axel Rose'\u001b[0m\u001b[0;34m:\u001b[0m \u001b[0;36m250000000\u001b[0m\u001b[0;34m,\u001b[0m \u001b[0;34m'Neil Peart'\u001b[0m\u001b[0;34m:\u001b[0m \u001b[0;36m500000000\u001b[0m\u001b[0;34m}\u001b[0m\u001b[0;34m\u001b[0m\u001b[0;34m\u001b[0m\u001b[0m\n\u001b[0;32m----> 2\u001b[0;31m \u001b[0mdic_artistas\u001b[0m\u001b[0;34m[\u001b[0m\u001b[0;34m'Ozzy'\u001b[0m\u001b[0;34m]\u001b[0m\u001b[0;34m\u001b[0m\u001b[0;34m\u001b[0m\u001b[0m\n\u001b[0m",
            "\u001b[0;31mKeyError\u001b[0m: 'Ozzy'"
          ]
        }
      ]
    },
    {
      "cell_type": "markdown",
      "metadata": {
        "id": "6oPa8SdODJ2Q"
      },
      "source": [
        "Podemos utilizar tratamento de erros e exceções específicos, mas os dicionários já herdam um método para fazer esta operação que é tão recorrente. Esse é um dos métodos mais usados quando lidamos com dicionários: o **.get()**"
      ]
    },
    {
      "cell_type": "code",
      "metadata": {
        "id": "kWAdnedtlxj6",
        "colab": {
          "base_uri": "https://localhost:8080/"
        },
        "outputId": "6864ce13-9413-4ec9-9da6-63309087cb31"
      },
      "source": [
        "consulta = dic_artistas.get('Ozzy')\n",
        "print(consulta)"
      ],
      "execution_count": 4,
      "outputs": [
        {
          "output_type": "stream",
          "text": [
            "None\n"
          ],
          "name": "stdout"
        }
      ]
    },
    {
      "cell_type": "code",
      "metadata": {
        "colab": {
          "base_uri": "https://localhost:8080/"
        },
        "id": "8HvHlqLKFZOb",
        "outputId": "0034a291-2bed-4bc6-9faf-24bd04c31d16"
      },
      "source": [
        "#Alternativamente, podemos informar o valor padrão\n",
        "consulta2 = dic_artistas.get('Ozzy', 'Não foi possível encontrar a chave')\n",
        "print(consulta2)"
      ],
      "execution_count": 5,
      "outputs": [
        {
          "output_type": "stream",
          "text": [
            "Não foi possível encontrar a chave\n"
          ],
          "name": "stdout"
        }
      ]
    },
    {
      "cell_type": "markdown",
      "metadata": {
        "id": "dC6_ffKHFp3u"
      },
      "source": [
        "Por boas práticas, caso queiramos atribuir um valor padrão ao invés de exibir uma mensagem de erro caso a chave não seja encontrada, podemos utilizar o método **.setdefault()**:"
      ]
    },
    {
      "cell_type": "code",
      "metadata": {
        "colab": {
          "base_uri": "https://localhost:8080/"
        },
        "id": "nHrf2Qo9GadS",
        "outputId": "717a4e41-1d0a-4e8e-d16d-c822571d777e"
      },
      "source": [
        "#caso o valor já esteja cadastrado, ele mantém o original\n",
        "dic_artistas.setdefault('Kurt Cobain', 15000)\n",
        "dic_artistas"
      ],
      "execution_count": 6,
      "outputs": [
        {
          "output_type": "execute_result",
          "data": {
            "text/plain": [
              "{'Axel Rose': 250000000, 'Kurt Cobain': 10000000, 'Neil Peart': 500000000}"
            ]
          },
          "metadata": {
            "tags": []
          },
          "execution_count": 6
        }
      ]
    },
    {
      "cell_type": "code",
      "metadata": {
        "colab": {
          "base_uri": "https://localhost:8080/"
        },
        "id": "SFV9KGwpGuO5",
        "outputId": "e649dd4d-dfbd-4ba9-dccc-4f124991c08a"
      },
      "source": [
        "#caso não esteja cadastrado, ele adiciona a chave e o valor no dicionário\n",
        "dic_artistas.setdefault('Ozzy Osbourne', 150000000)\n",
        "dic_artistas"
      ],
      "execution_count": 7,
      "outputs": [
        {
          "output_type": "execute_result",
          "data": {
            "text/plain": [
              "{'Axel Rose': 250000000,\n",
              " 'Kurt Cobain': 10000000,\n",
              " 'Neil Peart': 500000000,\n",
              " 'Ozzy Osbourne': 150000000}"
            ]
          },
          "metadata": {
            "tags": []
          },
          "execution_count": 7
        }
      ]
    },
    {
      "cell_type": "markdown",
      "metadata": {
        "id": "utf7AQViKqkZ"
      },
      "source": [
        "<h3>O dicionário como uma coleção de contadores</h3>"
      ]
    },
    {
      "cell_type": "markdown",
      "metadata": {
        "id": "ubPfGWnhK2Ql"
      },
      "source": [
        "Vamos fazer um exercício simples de contar as letras de uma palavra usando dicionários. \n",
        "\n",
        "Se fossemos fazer isso usando listas, teríamos que criar 26 variáveis (número de letras do alfaberto) e ficar incrementando contadores dentro de estruturas condicionais (if-elif-else). Veja como isso se torna mais simples."
      ]
    },
    {
      "cell_type": "code",
      "metadata": {
        "id": "CncSOxIoKp-A"
      },
      "source": [
        "def conta_letras(frase):\n",
        "  dic_letras = dict()\n",
        "  for caracter in frase:\n",
        "    #Se a chave ainda não tiver no dicionário, adiciona\n",
        "    if caracter not in dic_letras:\n",
        "      dic_letras[caracter] = 1\n",
        "    #Se já estiver, só incrementa o valor\n",
        "    else:\n",
        "      dic_letras[caracter] += 1\n",
        "    \n",
        "  return dic_letras"
      ],
      "execution_count": null,
      "outputs": []
    },
    {
      "cell_type": "code",
      "metadata": {
        "colab": {
          "base_uri": "https://localhost:8080/"
        },
        "id": "-Cvb608iKhEP",
        "outputId": "8d386987-56d9-45e0-837e-4ac315718e09"
      },
      "source": [
        "d_let = conta_letras('Hello! How are you doing?')\n",
        "d_let"
      ],
      "execution_count": null,
      "outputs": [
        {
          "output_type": "execute_result",
          "data": {
            "text/plain": [
              "{' ': 4,\n",
              " '!': 1,\n",
              " '?': 1,\n",
              " 'H': 2,\n",
              " 'a': 1,\n",
              " 'd': 1,\n",
              " 'e': 2,\n",
              " 'g': 1,\n",
              " 'i': 1,\n",
              " 'l': 2,\n",
              " 'n': 1,\n",
              " 'o': 4,\n",
              " 'r': 1,\n",
              " 'u': 1,\n",
              " 'w': 1,\n",
              " 'y': 1}"
            ]
          },
          "metadata": {
            "tags": []
          },
          "execution_count": 24
        }
      ]
    },
    {
      "cell_type": "markdown",
      "metadata": {
        "id": "upo2rBAgNAXm"
      },
      "source": [
        "Na Estatística, essas tabelas de frequência são geralmente transformada em gráficos conhecidos como **Histogramas**. \n",
        "\n",
        "Que tal plotarmos nosso primeiro histograma?"
      ]
    },
    {
      "cell_type": "code",
      "metadata": {
        "colab": {
          "base_uri": "https://localhost:8080/",
          "height": 265
        },
        "id": "y7I3DYAgM_xg",
        "outputId": "5da1347f-f7bd-438b-d477-db91e97bb9db"
      },
      "source": [
        "import matplotlib.pyplot as plt\n",
        "\n",
        "plt.bar(d_let.keys(),d_let.values(), width = 0.5, color = 'red')\n",
        "plt.show()"
      ],
      "execution_count": null,
      "outputs": [
        {
          "output_type": "display_data",
          "data": {
            "image/png": "[encoded data removed]",
            "text/plain": [
              "<Figure size 432x288 with 1 Axes>"
            ]
          },
          "metadata": {
            "tags": [],
            "needs_background": "light"
          }
        }
      ]
    },
    {
      "cell_type": "markdown",
      "metadata": {
        "id": "jKiYobqfQU90"
      },
      "source": [
        "<h2>Sets (ou Conjuntos)</h2>"
      ]
    },
    {
      "cell_type": "markdown",
      "metadata": {
        "id": "9szZEOIeppFY"
      },
      "source": [
        "Sem muito segredo, os sets nos oferecem a quantidade de valores únicos dentro de uma lista ou uma tupla."
      ]
    },
    {
      "cell_type": "code",
      "metadata": {
        "colab": {
          "base_uri": "https://localhost:8080/"
        },
        "id": "QB2cOhbnluoX",
        "outputId": "68478adf-75b3-4f4b-d6dc-7fd02e9e7877"
      },
      "source": [
        "set1 = {'a','b', 'a', 'c'}\n",
        "print(type(set1), set1)"
      ],
      "execution_count": null,
      "outputs": [
        {
          "output_type": "stream",
          "text": [
            "<class 'set'> {'a', 'b', 'c'}\n"
          ],
          "name": "stdout"
        }
      ]
    },
    {
      "cell_type": "code",
      "metadata": {
        "colab": {
          "base_uri": "https://localhost:8080/"
        },
        "id": "t9zqkt2Nl3jm",
        "outputId": "eeb0b8f9-c629-4849-96d0-e1ac2441ac5b"
      },
      "source": [
        "#O mesmo vale para quaisquer outros tipos de variáveis\n",
        "set2 = set((True, False, False, True, False))\n",
        "print(set2)\n",
        "\n",
        "set3 = set(['Gustavo', 'Alexandre', 'Marcos', 'Gustavo', 'Marcos'])\n",
        "print(set3)"
      ],
      "execution_count": null,
      "outputs": [
        {
          "output_type": "stream",
          "text": [
            "{False, True}\n",
            "{'Alexandre', 'Gustavo', 'Marcos'}\n"
          ],
          "name": "stdout"
        }
      ]
    },
    {
      "cell_type": "markdown",
      "metadata": {
        "id": "Eq_ml3iqoyIH"
      },
      "source": [
        "<h3> Exercício"
      ]
    },
    {
      "cell_type": "markdown",
      "metadata": {
        "id": "CxiqASF6pAZX"
      },
      "source": [
        "Analisar texto de documentos ou notícias que possa ser útil para o André, usando as estruturas de dados aqui presentes."
      ]
    }
  ]
}